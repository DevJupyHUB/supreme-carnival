{
 "cells": [
  {
   "cell_type": "markdown",
   "id": "520bea2b-7c11-4992-a8f1-594db916bdc7",
   "metadata": {},
   "source": [
    "Goal\n",
    "\n",
    "To recreate a #MakeoverMonday Tableau challenge using Python, with the aim of enhancing storytelling by improving the visualization."
   ]
  },
  {
   "cell_type": "code",
   "execution_count": 5,
   "id": "08732b95-b7da-4363-87c9-e9a1e369f800",
   "metadata": {},
   "outputs": [],
   "source": [
    "# Libraries\n",
    "import pandas as pd\n",
    "import matplotlib.pyplot as plt\n",
    "from janitor import clean_names\n",
    "from highlight_text import HighlightText, ax_text, fig_text"
   ]
  },
  {
   "cell_type": "code",
   "execution_count": 6,
   "id": "3f93c7a4-e8c1-46df-b326-bac75a849b6e",
   "metadata": {},
   "outputs": [],
   "source": [
    "df = pd.read_csv('generative_ai_search_trend.csv', names=['region', 'midjourney', 'stable_diffusion', 'dall_e'], header=0)"
   ]
  },
  {
   "cell_type": "code",
   "execution_count": 7,
   "id": "c97c4eb9-1800-4d86-97e1-1319dc8f5186",
   "metadata": {},
   "outputs": [
    {
     "data": {
      "text/html": [
       "<div>\n",
       "<style scoped>\n",
       "    .dataframe tbody tr th:only-of-type {\n",
       "        vertical-align: middle;\n",
       "    }\n",
       "\n",
       "    .dataframe tbody tr th {\n",
       "        vertical-align: top;\n",
       "    }\n",
       "\n",
       "    .dataframe thead th {\n",
       "        text-align: right;\n",
       "    }\n",
       "</style>\n",
       "<table border=\"1\" class=\"dataframe\">\n",
       "  <thead>\n",
       "    <tr style=\"text-align: right;\">\n",
       "      <th></th>\n",
       "      <th>region</th>\n",
       "      <th>midjourney</th>\n",
       "      <th>stable_diffusion</th>\n",
       "      <th>dall_e</th>\n",
       "    </tr>\n",
       "  </thead>\n",
       "  <tbody>\n",
       "    <tr>\n",
       "      <th>0</th>\n",
       "      <td>California</td>\n",
       "      <td>49%</td>\n",
       "      <td>29%</td>\n",
       "      <td>22%</td>\n",
       "    </tr>\n",
       "    <tr>\n",
       "      <th>1</th>\n",
       "      <td>Washington</td>\n",
       "      <td>43%</td>\n",
       "      <td>32%</td>\n",
       "      <td>25%</td>\n",
       "    </tr>\n",
       "  </tbody>\n",
       "</table>\n",
       "</div>"
      ],
      "text/plain": [
       "       region midjourney stable_diffusion dall_e\n",
       "0  California        49%              29%    22%\n",
       "1  Washington        43%              32%    25%"
      ]
     },
     "execution_count": 7,
     "metadata": {},
     "output_type": "execute_result"
    }
   ],
   "source": [
    "df.head(2)"
   ]
  },
  {
   "cell_type": "code",
   "execution_count": 8,
   "id": "c73b0276-d58d-4e8a-82a5-003030df6d50",
   "metadata": {},
   "outputs": [],
   "source": [
    "columns_to_convert = ['midjourney', 'stable_diffusion', 'dall_e']\n",
    "df[columns_to_convert] = df[columns_to_convert].map(lambda x: int(x.strip('%')))"
   ]
  },
  {
   "cell_type": "code",
   "execution_count": 9,
   "id": "b9c4ab4c-af00-430b-941c-3dab619a288c",
   "metadata": {},
   "outputs": [
    {
     "name": "stdout",
     "output_type": "stream",
     "text": [
      "<class 'pandas.core.frame.DataFrame'>\n",
      "RangeIndex: 51 entries, 0 to 50\n",
      "Data columns (total 4 columns):\n",
      " #   Column            Non-Null Count  Dtype \n",
      "---  ------            --------------  ----- \n",
      " 0   region            51 non-null     object\n",
      " 1   midjourney        51 non-null     int64 \n",
      " 2   stable_diffusion  51 non-null     int64 \n",
      " 3   dall_e            51 non-null     int64 \n",
      "dtypes: int64(3), object(1)\n",
      "memory usage: 1.7+ KB\n"
     ]
    }
   ],
   "source": [
    "df.info()"
   ]
  },
  {
   "cell_type": "code",
   "execution_count": 10,
   "id": "8fffb96d-e662-467c-a3b4-eeae511f8548",
   "metadata": {},
   "outputs": [],
   "source": [
    "url = 'https://www.census.gov/library/reference/code-lists/ansi/ansi-codes-for-states.html'"
   ]
  },
  {
   "cell_type": "code",
   "execution_count": 11,
   "id": "330e4763-808f-4a6f-b6c6-b54255c5eef5",
   "metadata": {},
   "outputs": [
    {
     "data": {
      "text/plain": [
       "3"
      ]
     },
     "execution_count": 11,
     "metadata": {},
     "output_type": "execute_result"
    }
   ],
   "source": [
    "tables = pd.read_html(url)\n",
    "len(tables)"
   ]
  },
  {
   "cell_type": "code",
   "execution_count": 12,
   "id": "b83f225a-c507-454f-9cf0-7ca61a1b7d02",
   "metadata": {},
   "outputs": [],
   "source": [
    "usps = tables[0]\n",
    "usps = clean_names(usps).drop('fips_state_numeric_code', axis = 1).rename(columns={\"official_usps_code\": \"state\"})"
   ]
  },
  {
   "cell_type": "code",
   "execution_count": 13,
   "id": "cade87dc-d7b0-4ae7-ab17-cf742f89d4cc",
   "metadata": {},
   "outputs": [],
   "source": [
    "df = pd.merge(df, usps, how = 'left', left_on = ['region'], right_on = ['name'])\n",
    "df = df.drop([\"region\", \"name\"], axis = 1)"
   ]
  },
  {
   "cell_type": "code",
   "execution_count": 14,
   "id": "cc5c0edb-f8ee-4915-aa4d-20a2aa2f78ec",
   "metadata": {},
   "outputs": [
    {
     "data": {
      "text/html": [
       "<div>\n",
       "<style scoped>\n",
       "    .dataframe tbody tr th:only-of-type {\n",
       "        vertical-align: middle;\n",
       "    }\n",
       "\n",
       "    .dataframe tbody tr th {\n",
       "        vertical-align: top;\n",
       "    }\n",
       "\n",
       "    .dataframe thead th {\n",
       "        text-align: right;\n",
       "    }\n",
       "</style>\n",
       "<table border=\"1\" class=\"dataframe\">\n",
       "  <thead>\n",
       "    <tr style=\"text-align: right;\">\n",
       "      <th></th>\n",
       "      <th>midjourney</th>\n",
       "      <th>stable_diffusion</th>\n",
       "      <th>dall_e</th>\n",
       "      <th>state</th>\n",
       "    </tr>\n",
       "  </thead>\n",
       "  <tbody>\n",
       "    <tr>\n",
       "      <th>0</th>\n",
       "      <td>49</td>\n",
       "      <td>29</td>\n",
       "      <td>22</td>\n",
       "      <td>CA</td>\n",
       "    </tr>\n",
       "    <tr>\n",
       "      <th>1</th>\n",
       "      <td>43</td>\n",
       "      <td>32</td>\n",
       "      <td>25</td>\n",
       "      <td>WA</td>\n",
       "    </tr>\n",
       "  </tbody>\n",
       "</table>\n",
       "</div>"
      ],
      "text/plain": [
       "   midjourney  stable_diffusion  dall_e state\n",
       "0          49                29      22    CA\n",
       "1          43                32      25    WA"
      ]
     },
     "execution_count": 14,
     "metadata": {},
     "output_type": "execute_result"
    }
   ],
   "source": [
    "df.head(2)"
   ]
  },
  {
   "cell_type": "code",
   "execution_count": 15,
   "id": "0cb08acf-431a-4291-82fe-671fb4e7b1e1",
   "metadata": {},
   "outputs": [],
   "source": [
    "df = pd.melt(df, id_vars=['state'], var_name='brand', value_name='value')"
   ]
  },
  {
   "cell_type": "code",
   "execution_count": 16,
   "id": "243ad1c0-3741-47ce-9045-3ccaa8d499a5",
   "metadata": {},
   "outputs": [
    {
     "data": {
      "text/html": [
       "<div>\n",
       "<style scoped>\n",
       "    .dataframe tbody tr th:only-of-type {\n",
       "        vertical-align: middle;\n",
       "    }\n",
       "\n",
       "    .dataframe tbody tr th {\n",
       "        vertical-align: top;\n",
       "    }\n",
       "\n",
       "    .dataframe thead th {\n",
       "        text-align: right;\n",
       "    }\n",
       "</style>\n",
       "<table border=\"1\" class=\"dataframe\">\n",
       "  <thead>\n",
       "    <tr style=\"text-align: right;\">\n",
       "      <th></th>\n",
       "      <th>state</th>\n",
       "      <th>brand</th>\n",
       "      <th>value</th>\n",
       "    </tr>\n",
       "  </thead>\n",
       "  <tbody>\n",
       "    <tr>\n",
       "      <th>0</th>\n",
       "      <td>CA</td>\n",
       "      <td>midjourney</td>\n",
       "      <td>49</td>\n",
       "    </tr>\n",
       "    <tr>\n",
       "      <th>1</th>\n",
       "      <td>WA</td>\n",
       "      <td>midjourney</td>\n",
       "      <td>43</td>\n",
       "    </tr>\n",
       "  </tbody>\n",
       "</table>\n",
       "</div>"
      ],
      "text/plain": [
       "  state       brand  value\n",
       "0    CA  midjourney     49\n",
       "1    WA  midjourney     43"
      ]
     },
     "execution_count": 16,
     "metadata": {},
     "output_type": "execute_result"
    }
   ],
   "source": [
    "df.head(2)"
   ]
  },
  {
   "cell_type": "code",
   "execution_count": 17,
   "id": "8af483e6-8740-438c-91cb-6bf332b7fc54",
   "metadata": {},
   "outputs": [],
   "source": [
    "# Specify the path to your font file\n",
    "#font_path = 'C:/Users/localhost4/AppData/Local/Microsoft/Windows/Fonts/Product Sans Regular.ttf'\n",
    "\n",
    "# Set the font family\n",
    "#plt.rcParams['font.family'] = 'Product Sans'"
   ]
  },
  {
   "cell_type": "code",
   "execution_count": 19,
   "id": "68fb5c2a-4d2c-44d2-b4a2-e9c6cf9f40bf",
   "metadata": {},
   "outputs": [
    {
     "data": {
      "image/png": "[encoded data removed]",
      "text/plain": [
       "<Figure size 1000x700 with 88 Axes>"
      ]
     },
     "metadata": {},
     "output_type": "display_data"
    }
   ],
   "source": [
    "# Colors for the bars\n",
    "colors = ['#4285F4', '#DB4437', '#F4B400']\n",
    "\n",
    "# Create a figure with 8x11 axes\n",
    "nrows, ncols = 8, 11\n",
    "fig, axs = plt.subplots(nrows=nrows, ncols=ncols,figsize=(10, 7))\n",
    "\n",
    "# Positions of rows to be removed\n",
    "rows_to_remove = [       (0,1), (0,2), (0,3), (0,4), (0,5), (0,6), (0,7), (0,8), (0,9), \n",
    "                  (1,0), (1,1), (1,2), (1,3), (1,4), (1,5), (1,6), (1,7), (1,8), \n",
    "                                                     (2,5),        (2,7), \n",
    "                                                                                        (3,10), \n",
    "                                                                                        (4,10), \n",
    "                  (5,0),                                                                (5,10), \n",
    "                  (6,0), (6,1),                                           (6,8), (6,9), (6,10), \n",
    "                         (7,1), (7,2),        (7,4), (7,5), (7,6), (7,7), (7,8),        (7,10)]\n",
    "\n",
    "# First letters of states\n",
    "letters_state = ['AK', 'ME', 'VT', 'NH', 'WA', 'ID', 'MT', 'ND', 'MN', 'MI', 'NY',\n",
    "                 'MA', 'RI', 'OR', 'UT', 'WY', 'SD', 'IA', 'WI', 'OH', 'PA',\n",
    "                 'NJ', 'CT', 'CA', 'NV', 'CO', 'NE', 'IL', 'IN', 'WV', 'VA',\n",
    "                 'MD', 'DE', 'AZ', 'NM', 'KS', 'MO', 'KY', 'TN', 'SC', 'NC',\n",
    "                 'DC', 'OK', 'LA', 'AR', 'MS', 'AL', 'GA', 'HI', 'TX', 'FL']\n",
    "\n",
    "# Iteare over each axis\n",
    "state = 0\n",
    "for row in range(nrows):\n",
    "    for col in range(ncols):\n",
    "        \n",
    "        # Test if specific row is to be removed\n",
    "        if (row, col) in rows_to_remove:\n",
    "            axs[row, col].axis('off')\n",
    "        \n",
    "        # Axes to keep\n",
    "        else:\n",
    "            \n",
    "            # Remove axis labels\n",
    "            axs[row, col].set_xticks([])\n",
    "            axs[row, col].set_yticks([])\n",
    "                       \n",
    "            # Add state's letters\n",
    "            letters = letters_state[state]\n",
    "            axs[row, col].annotate(letters, xy=(0.4, 0.75),\n",
    "                                   xycoords='axes fraction')\n",
    "            state += 1\n",
    "            \n",
    "            # Filter on state data\n",
    "            state_data = df[df['state']==letters]         \n",
    "\n",
    "            # Create the bar chart\n",
    "            bars=axs[row, col].bar(state_data['brand'], state_data['value'], color = colors, edgecolor='white')      \n",
    "            \n",
    "            # Determine the background color for each plot based on the biggest bar\n",
    "            b_color = max(bars, key=lambda x: x.get_height()).get_facecolor()\n",
    "            axs[row, col].set_facecolor(b_color)\n",
    "            axs[row, col].patch.set_alpha(0.5)\n",
    "            \n",
    "\n",
    "# Title and subtitle\n",
    "title = 'Generative AI search trends'\n",
    "font_params = {'fontfamily': 'serif',\n",
    "               'fontname': 'Times New Roman',\n",
    "               'fontsize': 25, 'weight': 'bold'}\n",
    "fig.text(0.5, 0.90, title,\n",
    "         ha='center', va='center',\n",
    "         **font_params)\n",
    "\n",
    "# Subtitle\n",
    "text = f\"\"\"\n",
    "Google search for <Midjourney>, <Stable diffusion> and <Dall-e>, Jan 2022 - Feb 2024\n",
    "\"\"\"\n",
    "fig_text(0.5, 0.82, text, ha='center', va='center', fontsize=10,\n",
    "         highlight_textprops=[{\"color\": \"#4285F4\", \"fontweight\":\"bold\"}, {\"color\": \"#DB4437\", \"fontweight\":\"bold\"}, {\"color\": \"#F4B400\", \"fontweight\":\"bold\"}]         \n",
    "         )\n",
    "\n",
    "# Source and credit\n",
    "fig.text(0.85, 0.05, 'Data: data.world',\n",
    "         ha='center', va='center',\n",
    "         fontsize=8)\n",
    "\n",
    "fig.text(0.2, 0.05, 'Map template credit: https://python-graph-gallery.com/',\n",
    "         ha='center', va='center',\n",
    "         fontsize=8)\n",
    "\n",
    "# Display the plot\n",
    "plt.show()          "
   ]
  },
  {
   "cell_type": "code",
   "execution_count": null,
   "id": "05e8224b-2bc9-42fe-84b3-dea163be4183",
   "metadata": {},
   "outputs": [],
   "source": []
  }
 ],
 "metadata": {
  "kernelspec": {
   "display_name": "Python 3 (ipykernel)",
   "language": "python",
   "name": "python3"
  },
  "language_info": {
   "codemirror_mode": {
    "name": "ipython",
    "version": 3
   },
   "file_extension": ".py",
   "mimetype": "text/x-python",
   "name": "python",
   "nbconvert_exporter": "python",
   "pygments_lexer": "ipython3",
   "version": "3.10.10"
  }
 },
 "nbformat": 4,
 "nbformat_minor": 5
}
