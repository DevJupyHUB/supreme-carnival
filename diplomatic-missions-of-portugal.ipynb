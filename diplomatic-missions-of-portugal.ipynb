{
 "cells": [
  {
   "cell_type": "markdown",
   "id": "7488fb06",
   "metadata": {
    "papermill": {
     "duration": 0.020215,
     "end_time": "2023-12-11T16:50:07.045865",
     "exception": false,
     "start_time": "2023-12-11T16:50:07.025650",
     "status": "completed"
    },
    "tags": []
   },
   "source": [
    "**Diplomatic missions of Portugal**\n",
    "\n",
    "**Goal**\n",
    "\n",
    "To look at what type of portuguese diplomatic missions are in the world and where these missions are located.\n",
    "\n",
    "**Method**\n",
    "\n",
    "The list of diplomatic missions will be scraped from Wikipedia using pandas the read_html() method. After that a thorough data cleaning will take place. The cleaned data will be joined with a country codes dataset from [Kaggle](https://www.kaggle.com/datasets/andradaolteanu/iso-country-codes-global). Finally, the data will be visualized by using a waffle chart and two coropleth map charts.\n",
    "\n",
    "**Diplomatic missions definition by oxfordreference.com:**\n",
    "\n",
    ">A diplomatic mission is a body composed of government officers representing the interests and welfare of their state who have been posted abroad (by the sending state) and operate within the jurisdiction of another state (the receiving state). This mission will be accorded protection by the receiving state in accordance with the rules of diplomatic immunity. \n"
   ]
  },
  {
   "cell_type": "code",
   "execution_count": 1,
   "id": "d9eb44bf",
   "metadata": {
    "execution": {
     "iopub.execute_input": "2023-12-11T16:50:07.086000Z",
     "iopub.status.busy": "2023-12-11T16:50:07.085602Z",
     "iopub.status.idle": "2023-12-11T16:50:27.118197Z",
     "shell.execute_reply": "2023-12-11T16:50:27.116648Z"
    },
    "papermill": {
     "duration": 20.055881,
     "end_time": "2023-12-11T16:50:27.120988",
     "exception": false,
     "start_time": "2023-12-11T16:50:07.065107",
     "status": "completed"
    },
    "tags": []
   },
   "outputs": [
    {
     "name": "stdout",
     "output_type": "stream",
     "text": [
      "Collecting pywaffle\r\n",
      "  Downloading pywaffle-1.1.0-py2.py3-none-any.whl (30 kB)\r\n",
      "Collecting fontawesomefree (from pywaffle)\r\n",
      "  Obtaining dependency information for fontawesomefree from https://files.pythonhosted.org/packages/8f/fc/295f4f71fc157de68dcf25a4850953e61f6eca644e7416f10a281ed42441/fontawesomefree-6.5.1-py3-none-any.whl.metadata\r\n",
      "  Downloading fontawesomefree-6.5.1-py3-none-any.whl.metadata (824 bytes)\r\n",
      "Requirement already satisfied: matplotlib in /opt/conda/lib/python3.10/site-packages (from pywaffle) (3.7.4)\r\n",
      "Requirement already satisfied: contourpy>=1.0.1 in /opt/conda/lib/python3.10/site-packages (from matplotlib->pywaffle) (1.1.0)\r\n",
      "Requirement already satisfied: cycler>=0.10 in /opt/conda/lib/python3.10/site-packages (from matplotlib->pywaffle) (0.11.0)\r\n",
      "Requirement already satisfied: fonttools>=4.22.0 in /opt/conda/lib/python3.10/site-packages (from matplotlib->pywaffle) (4.42.1)\r\n",
      "Requirement already satisfied: kiwisolver>=1.0.1 in /opt/conda/lib/python3.10/site-packages (from matplotlib->pywaffle) (1.4.4)\r\n",
      "Requirement already satisfied: numpy<2,>=1.20 in /opt/conda/lib/python3.10/site-packages (from matplotlib->pywaffle) (1.24.3)\r\n",
      "Requirement already satisfied: packaging>=20.0 in /opt/conda/lib/python3.10/site-packages (from matplotlib->pywaffle) (21.3)\r\n",
      "Requirement already satisfied: pillow>=6.2.0 in /opt/conda/lib/python3.10/site-packages (from matplotlib->pywaffle) (10.1.0)\r\n",
      "Requirement already satisfied: pyparsing>=2.3.1 in /opt/conda/lib/python3.10/site-packages (from matplotlib->pywaffle) (3.0.9)\r\n",
      "Requirement already satisfied: python-dateutil>=2.7 in /opt/conda/lib/python3.10/site-packages (from matplotlib->pywaffle) (2.8.2)\r\n",
      "Requirement already satisfied: six>=1.5 in /opt/conda/lib/python3.10/site-packages (from python-dateutil>=2.7->matplotlib->pywaffle) (1.16.0)\r\n",
      "Downloading fontawesomefree-6.5.1-py3-none-any.whl (25.6 MB)\r\n",
      "\u001b[2K   \u001b[90m━━━━━━━━━━━━━━━━━━━━━━━━━━━━━━━━━━━━━━━━\u001b[0m \u001b[32m25.6/25.6 MB\u001b[0m \u001b[31m45.3 MB/s\u001b[0m eta \u001b[36m0:00:00\u001b[0m\r\n",
      "\u001b[?25hInstalling collected packages: fontawesomefree, pywaffle\r\n",
      "Successfully installed fontawesomefree-6.5.1 pywaffle-1.1.0\r\n",
      "Note: you may need to restart the kernel to use updated packages.\n"
     ]
    }
   ],
   "source": [
    "pip install pywaffle"
   ]
  },
  {
   "cell_type": "code",
   "execution_count": 2,
   "id": "048977e7",
   "metadata": {
    "execution": {
     "iopub.execute_input": "2023-12-11T16:50:27.166118Z",
     "iopub.status.busy": "2023-12-11T16:50:27.165734Z",
     "iopub.status.idle": "2023-12-11T16:50:28.507150Z",
     "shell.execute_reply": "2023-12-11T16:50:28.505919Z"
    },
    "papermill": {
     "duration": 1.367719,
     "end_time": "2023-12-11T16:50:28.509833",
     "exception": false,
     "start_time": "2023-12-11T16:50:27.142114",
     "status": "completed"
    },
    "tags": []
   },
   "outputs": [],
   "source": [
    "import pandas as pd\n",
    "import numpy as np\n",
    "import matplotlib.pyplot as plt\n",
    "from pywaffle import Waffle\n",
    "import plotly.express as px"
   ]
  },
  {
   "cell_type": "markdown",
   "id": "a011e1d7",
   "metadata": {
    "papermill": {
     "duration": 0.021564,
     "end_time": "2023-12-11T16:50:28.552551",
     "exception": false,
     "start_time": "2023-12-11T16:50:28.530987",
     "status": "completed"
    },
    "tags": []
   },
   "source": [
    "First, the data needs to be scraped from the below Wikipedia page by using `read_html()` method of pandas."
   ]
  },
  {
   "cell_type": "code",
   "execution_count": 3,
   "id": "0a00b300",
   "metadata": {
    "execution": {
     "iopub.execute_input": "2023-12-11T16:50:28.596785Z",
     "iopub.status.busy": "2023-12-11T16:50:28.596229Z",
     "iopub.status.idle": "2023-12-11T16:50:28.601409Z",
     "shell.execute_reply": "2023-12-11T16:50:28.600290Z"
    },
    "papermill": {
     "duration": 0.030167,
     "end_time": "2023-12-11T16:50:28.603729",
     "exception": false,
     "start_time": "2023-12-11T16:50:28.573562",
     "status": "completed"
    },
    "tags": []
   },
   "outputs": [],
   "source": [
    "url = 'https://en.wikipedia.org/wiki/List_of_diplomatic_missions_of_Portugal'"
   ]
  },
  {
   "cell_type": "code",
   "execution_count": 4,
   "id": "22a06ea1",
   "metadata": {
    "execution": {
     "iopub.execute_input": "2023-12-11T16:50:28.649158Z",
     "iopub.status.busy": "2023-12-11T16:50:28.647972Z",
     "iopub.status.idle": "2023-12-11T16:50:29.208930Z",
     "shell.execute_reply": "2023-12-11T16:50:29.207651Z"
    },
    "papermill": {
     "duration": 0.587383,
     "end_time": "2023-12-11T16:50:29.212305",
     "exception": false,
     "start_time": "2023-12-11T16:50:28.624922",
     "status": "completed"
    },
    "tags": []
   },
   "outputs": [],
   "source": [
    "tables = pd.read_html(url)"
   ]
  },
  {
   "cell_type": "markdown",
   "id": "ff3c6999",
   "metadata": {
    "papermill": {
     "duration": 0.021723,
     "end_time": "2023-12-11T16:50:29.255545",
     "exception": false,
     "start_time": "2023-12-11T16:50:29.233822",
     "status": "completed"
    },
    "tags": []
   },
   "source": [
    "Let's see how many tables have been read."
   ]
  },
  {
   "cell_type": "code",
   "execution_count": 5,
   "id": "d18b7e9a",
   "metadata": {
    "execution": {
     "iopub.execute_input": "2023-12-11T16:50:29.302377Z",
     "iopub.status.busy": "2023-12-11T16:50:29.301738Z",
     "iopub.status.idle": "2023-12-11T16:50:29.309991Z",
     "shell.execute_reply": "2023-12-11T16:50:29.308905Z"
    },
    "papermill": {
     "duration": 0.034065,
     "end_time": "2023-12-11T16:50:29.312222",
     "exception": false,
     "start_time": "2023-12-11T16:50:29.278157",
     "status": "completed"
    },
    "tags": []
   },
   "outputs": [
    {
     "data": {
      "text/plain": [
       "13"
      ]
     },
     "execution_count": 5,
     "metadata": {},
     "output_type": "execute_result"
    }
   ],
   "source": [
    "len(tables)"
   ]
  },
  {
   "cell_type": "markdown",
   "id": "89c9c945",
   "metadata": {
    "papermill": {
     "duration": 0.020856,
     "end_time": "2023-12-11T16:50:29.354259",
     "exception": false,
     "start_time": "2023-12-11T16:50:29.333403",
     "status": "completed"
    },
    "tags": []
   },
   "source": [
    "There are 13 tables but we need only 5 for this project.  The the required tables can be read by using their indexes and than saved into dataframes. A new 'Continent' column will also be added into each 5 dataframes."
   ]
  },
  {
   "cell_type": "code",
   "execution_count": 6,
   "id": "c55c06a7",
   "metadata": {
    "execution": {
     "iopub.execute_input": "2023-12-11T16:50:29.398587Z",
     "iopub.status.busy": "2023-12-11T16:50:29.398176Z",
     "iopub.status.idle": "2023-12-11T16:50:29.414418Z",
     "shell.execute_reply": "2023-12-11T16:50:29.413284Z"
    },
    "papermill": {
     "duration": 0.041567,
     "end_time": "2023-12-11T16:50:29.417133",
     "exception": false,
     "start_time": "2023-12-11T16:50:29.375566",
     "status": "completed"
    },
    "tags": []
   },
   "outputs": [],
   "source": [
    "africa = tables[0]\n",
    "africa['Continent'] = 'Africa'\n",
    "americas = tables[1]\n",
    "americas['Continent'] = 'Americas'\n",
    "asia = tables[2]\n",
    "asia['Continent'] = 'Asia'\n",
    "europe = tables[3]\n",
    "europe['Continent'] = 'Europe'\n",
    "oceania = tables[4]\n",
    "oceania['Continent'] = 'Oceania'"
   ]
  },
  {
   "cell_type": "markdown",
   "id": "c7c07c8c",
   "metadata": {
    "papermill": {
     "duration": 0.021822,
     "end_time": "2023-12-11T16:50:29.525909",
     "exception": false,
     "start_time": "2023-12-11T16:50:29.504087",
     "status": "completed"
    },
    "tags": []
   },
   "source": [
    "In the Oceania table the host city column name is mistyped. "
   ]
  },
  {
   "cell_type": "code",
   "execution_count": 7,
   "id": "5520e100",
   "metadata": {
    "execution": {
     "iopub.execute_input": "2023-12-11T16:50:29.571195Z",
     "iopub.status.busy": "2023-12-11T16:50:29.570805Z",
     "iopub.status.idle": "2023-12-11T16:50:29.587326Z",
     "shell.execute_reply": "2023-12-11T16:50:29.586196Z"
    },
    "papermill": {
     "duration": 0.042066,
     "end_time": "2023-12-11T16:50:29.589993",
     "exception": false,
     "start_time": "2023-12-11T16:50:29.547927",
     "status": "completed"
    },
    "tags": []
   },
   "outputs": [
    {
     "data": {
      "text/html": [
       "<div>\n",
       "<style scoped>\n",
       "    .dataframe tbody tr th:only-of-type {\n",
       "        vertical-align: middle;\n",
       "    }\n",
       "\n",
       "    .dataframe tbody tr th {\n",
       "        vertical-align: top;\n",
       "    }\n",
       "\n",
       "    .dataframe thead th {\n",
       "        text-align: right;\n",
       "    }\n",
       "</style>\n",
       "<table border=\"1\" class=\"dataframe\">\n",
       "  <thead>\n",
       "    <tr style=\"text-align: right;\">\n",
       "      <th></th>\n",
       "      <th>Host country</th>\n",
       "      <th>Hoat city</th>\n",
       "      <th>Mission</th>\n",
       "      <th>Concurrent accreditation</th>\n",
       "      <th>Ref.</th>\n",
       "      <th>Continent</th>\n",
       "    </tr>\n",
       "  </thead>\n",
       "  <tbody>\n",
       "    <tr>\n",
       "      <th>0</th>\n",
       "      <td>Australia</td>\n",
       "      <td>Canberra</td>\n",
       "      <td>Embassy</td>\n",
       "      <td>Countries:  Cook Islands Fiji Kiribati Marshal...</td>\n",
       "      <td>[85][86]</td>\n",
       "      <td>Oceania</td>\n",
       "    </tr>\n",
       "    <tr>\n",
       "      <th>1</th>\n",
       "      <td>Australia</td>\n",
       "      <td>Sydney</td>\n",
       "      <td>Consulate General</td>\n",
       "      <td>Countries:  Cook Islands Fiji Kiribati Marshal...</td>\n",
       "      <td>[85]</td>\n",
       "      <td>Oceania</td>\n",
       "    </tr>\n",
       "  </tbody>\n",
       "</table>\n",
       "</div>"
      ],
      "text/plain": [
       "  Host country Hoat city            Mission  \\\n",
       "0    Australia  Canberra            Embassy   \n",
       "1    Australia    Sydney  Consulate General   \n",
       "\n",
       "                            Concurrent accreditation      Ref. Continent  \n",
       "0  Countries:  Cook Islands Fiji Kiribati Marshal...  [85][86]   Oceania  \n",
       "1  Countries:  Cook Islands Fiji Kiribati Marshal...      [85]   Oceania  "
      ]
     },
     "execution_count": 7,
     "metadata": {},
     "output_type": "execute_result"
    }
   ],
   "source": [
    "oceania.head()"
   ]
  },
  {
   "cell_type": "markdown",
   "id": "67e34d54",
   "metadata": {
    "papermill": {
     "duration": 0.021238,
     "end_time": "2023-12-11T16:50:29.634075",
     "exception": false,
     "start_time": "2023-12-11T16:50:29.612837",
     "status": "completed"
    },
    "tags": []
   },
   "source": [
    "This misspelling needs to be corrected now to avoid concatenation problem at the next step."
   ]
  },
  {
   "cell_type": "code",
   "execution_count": 8,
   "id": "3fb6b83f",
   "metadata": {
    "execution": {
     "iopub.execute_input": "2023-12-11T16:50:29.681112Z",
     "iopub.status.busy": "2023-12-11T16:50:29.680697Z",
     "iopub.status.idle": "2023-12-11T16:50:29.689214Z",
     "shell.execute_reply": "2023-12-11T16:50:29.688361Z"
    },
    "papermill": {
     "duration": 0.035258,
     "end_time": "2023-12-11T16:50:29.691392",
     "exception": false,
     "start_time": "2023-12-11T16:50:29.656134",
     "status": "completed"
    },
    "tags": []
   },
   "outputs": [],
   "source": [
    "oceania.rename(columns={'Hoat city': 'Host city'}, inplace=True)"
   ]
  },
  {
   "cell_type": "markdown",
   "id": "657bcacd",
   "metadata": {
    "papermill": {
     "duration": 0.022339,
     "end_time": "2023-12-11T16:50:29.737080",
     "exception": false,
     "start_time": "2023-12-11T16:50:29.714741",
     "status": "completed"
    },
    "tags": []
   },
   "source": [
    "Now we can concatenate the 5 tables, reset the index and drop the 'Ref.' column which is irrelevant."
   ]
  },
  {
   "cell_type": "code",
   "execution_count": 9,
   "id": "a013444f",
   "metadata": {
    "execution": {
     "iopub.execute_input": "2023-12-11T16:50:29.782827Z",
     "iopub.status.busy": "2023-12-11T16:50:29.782395Z",
     "iopub.status.idle": "2023-12-11T16:50:29.802983Z",
     "shell.execute_reply": "2023-12-11T16:50:29.802176Z"
    },
    "papermill": {
     "duration": 0.045933,
     "end_time": "2023-12-11T16:50:29.805214",
     "exception": false,
     "start_time": "2023-12-11T16:50:29.759281",
     "status": "completed"
    },
    "tags": []
   },
   "outputs": [
    {
     "data": {
      "text/html": [
       "<div>\n",
       "<style scoped>\n",
       "    .dataframe tbody tr th:only-of-type {\n",
       "        vertical-align: middle;\n",
       "    }\n",
       "\n",
       "    .dataframe tbody tr th {\n",
       "        vertical-align: top;\n",
       "    }\n",
       "\n",
       "    .dataframe thead th {\n",
       "        text-align: right;\n",
       "    }\n",
       "</style>\n",
       "<table border=\"1\" class=\"dataframe\">\n",
       "  <thead>\n",
       "    <tr style=\"text-align: right;\">\n",
       "      <th></th>\n",
       "      <th>Host_country</th>\n",
       "      <th>Host_city</th>\n",
       "      <th>Mission</th>\n",
       "      <th>ca</th>\n",
       "      <th>Continent</th>\n",
       "    </tr>\n",
       "  </thead>\n",
       "  <tbody>\n",
       "    <tr>\n",
       "      <th>0</th>\n",
       "      <td>Algeria</td>\n",
       "      <td>Algiers</td>\n",
       "      <td>Embassy</td>\n",
       "      <td>Countries:  Mali</td>\n",
       "      <td>Africa</td>\n",
       "    </tr>\n",
       "    <tr>\n",
       "      <th>1</th>\n",
       "      <td>Angola</td>\n",
       "      <td>Luanda</td>\n",
       "      <td>Embassy</td>\n",
       "      <td>NaN</td>\n",
       "      <td>Africa</td>\n",
       "    </tr>\n",
       "    <tr>\n",
       "      <th>2</th>\n",
       "      <td>Angola</td>\n",
       "      <td>Benguela</td>\n",
       "      <td>Consulate-General</td>\n",
       "      <td>NaN</td>\n",
       "      <td>Africa</td>\n",
       "    </tr>\n",
       "    <tr>\n",
       "      <th>3</th>\n",
       "      <td>Cape Verde</td>\n",
       "      <td>Praia</td>\n",
       "      <td>Embassy</td>\n",
       "      <td>NaN</td>\n",
       "      <td>Africa</td>\n",
       "    </tr>\n",
       "    <tr>\n",
       "      <th>4</th>\n",
       "      <td>Cape Verde</td>\n",
       "      <td>Mindelo</td>\n",
       "      <td>Consular office</td>\n",
       "      <td>NaN</td>\n",
       "      <td>Africa</td>\n",
       "    </tr>\n",
       "  </tbody>\n",
       "</table>\n",
       "</div>"
      ],
      "text/plain": [
       "  Host_country Host_city            Mission                ca Continent\n",
       "0      Algeria   Algiers            Embassy  Countries:  Mali    Africa\n",
       "1       Angola    Luanda            Embassy               NaN    Africa\n",
       "2       Angola  Benguela  Consulate-General               NaN    Africa\n",
       "3   Cape Verde     Praia            Embassy               NaN    Africa\n",
       "4   Cape Verde   Mindelo    Consular office               NaN    Africa"
      ]
     },
     "execution_count": 9,
     "metadata": {},
     "output_type": "execute_result"
    }
   ],
   "source": [
    "df = pd.concat([africa, americas, asia, europe, oceania])\\\n",
    ".reset_index(drop = True).drop(columns=[\"Ref.\"]).rename(columns={\"Host country\": \"Host_country\",\n",
    "                                                                 \"Host city\": \"Host_city\",\n",
    "                                                                 \"Concurrent accreditation\": \"ca\"})\n",
    "df.head()"
   ]
  },
  {
   "cell_type": "markdown",
   "id": "2f88306e",
   "metadata": {
    "papermill": {
     "duration": 0.02202,
     "end_time": "2023-12-11T16:50:29.849153",
     "exception": false,
     "start_time": "2023-12-11T16:50:29.827133",
     "status": "completed"
    },
    "tags": []
   },
   "source": [
    "The 'ca' (concurrent accreditation) column seems to be problematic beacuse some countries have more than one accreditation while others have none. This column can contain mulitple values by rows including countries, international organizations and soveryn entities. So we are going to try and clean up this data.\n",
    "\n",
    "We can check the data types and missing values by using pandas info ()method.\n"
   ]
  },
  {
   "cell_type": "code",
   "execution_count": 10,
   "id": "6eb052dc",
   "metadata": {
    "execution": {
     "iopub.execute_input": "2023-12-11T16:50:29.896225Z",
     "iopub.status.busy": "2023-12-11T16:50:29.895764Z",
     "iopub.status.idle": "2023-12-11T16:50:29.918147Z",
     "shell.execute_reply": "2023-12-11T16:50:29.917341Z"
    },
    "papermill": {
     "duration": 0.048207,
     "end_time": "2023-12-11T16:50:29.920563",
     "exception": false,
     "start_time": "2023-12-11T16:50:29.872356",
     "status": "completed"
    },
    "tags": []
   },
   "outputs": [
    {
     "name": "stdout",
     "output_type": "stream",
     "text": [
      "<class 'pandas.core.frame.DataFrame'>\n",
      "RangeIndex: 125 entries, 0 to 124\n",
      "Data columns (total 5 columns):\n",
      " #   Column        Non-Null Count  Dtype \n",
      "---  ------        --------------  ----- \n",
      " 0   Host_country  125 non-null    object\n",
      " 1   Host_city     125 non-null    object\n",
      " 2   Mission       125 non-null    object\n",
      " 3   ca            74 non-null     object\n",
      " 4   Continent     125 non-null    object\n",
      "dtypes: object(5)\n",
      "memory usage: 5.0+ KB\n"
     ]
    }
   ],
   "source": [
    "df.info()"
   ]
  },
  {
   "cell_type": "markdown",
   "id": "a7c4a562",
   "metadata": {
    "papermill": {
     "duration": 0.022484,
     "end_time": "2023-12-11T16:50:29.965260",
     "exception": false,
     "start_time": "2023-12-11T16:50:29.942776",
     "status": "completed"
    },
    "tags": []
   },
   "source": [
    "There are 125 rows and 5 columns. All varaible's data type is 'object'. There are 51 missing values in 'Concurrent_accreditation' column. These not real missing values though beacuse not all countries have concurrent accreditations, for this reason these should be kept as NaN values.\n",
    "\n",
    "The next step is to check how many unique mission types exist by using the np.unique () method.\n"
   ]
  },
  {
   "cell_type": "code",
   "execution_count": 11,
   "id": "cbc28c68",
   "metadata": {
    "execution": {
     "iopub.execute_input": "2023-12-11T16:50:30.011473Z",
     "iopub.status.busy": "2023-12-11T16:50:30.011101Z",
     "iopub.status.idle": "2023-12-11T16:50:30.020792Z",
     "shell.execute_reply": "2023-12-11T16:50:30.019802Z"
    },
    "papermill": {
     "duration": 0.035695,
     "end_time": "2023-12-11T16:50:30.023273",
     "exception": false,
     "start_time": "2023-12-11T16:50:29.987578",
     "status": "completed"
    },
    "tags": []
   },
   "outputs": [
    {
     "data": {
      "text/plain": [
       "array(['Consular office', 'Consulate', 'Consulate General',\n",
       "       'Consulate-General', 'Embassy', 'Representative Office',\n",
       "       'Vice-consulate'], dtype=object)"
      ]
     },
     "execution_count": 11,
     "metadata": {},
     "output_type": "execute_result"
    }
   ],
   "source": [
    "np.unique(df.Mission)"
   ]
  },
  {
   "cell_type": "markdown",
   "id": "6c791015",
   "metadata": {
    "papermill": {
     "duration": 0.022874,
     "end_time": "2023-12-11T16:50:30.069236",
     "exception": false,
     "start_time": "2023-12-11T16:50:30.046362",
     "status": "completed"
    },
    "tags": []
   },
   "source": [
    "Consulate General appers with 2 different kind of writings which needs to be corrected."
   ]
  },
  {
   "cell_type": "code",
   "execution_count": 12,
   "id": "2b3c9b20",
   "metadata": {
    "execution": {
     "iopub.execute_input": "2023-12-11T16:50:30.116738Z",
     "iopub.status.busy": "2023-12-11T16:50:30.116336Z",
     "iopub.status.idle": "2023-12-11T16:50:30.122820Z",
     "shell.execute_reply": "2023-12-11T16:50:30.121577Z"
    },
    "papermill": {
     "duration": 0.032929,
     "end_time": "2023-12-11T16:50:30.125151",
     "exception": false,
     "start_time": "2023-12-11T16:50:30.092222",
     "status": "completed"
    },
    "tags": []
   },
   "outputs": [],
   "source": [
    "df[\"Mission\"] = df[\"Mission\"].replace({\"Consulate General\": \"Consulate-General\"})"
   ]
  },
  {
   "cell_type": "markdown",
   "id": "2f150e07",
   "metadata": {
    "papermill": {
     "duration": 0.022049,
     "end_time": "2023-12-11T16:50:30.169791",
     "exception": false,
     "start_time": "2023-12-11T16:50:30.147742",
     "status": "completed"
    },
    "tags": []
   },
   "source": [
    "Now the diffrent mission types can be counted to check whether the replacement took place."
   ]
  },
  {
   "cell_type": "code",
   "execution_count": 13,
   "id": "bb20bd90",
   "metadata": {
    "execution": {
     "iopub.execute_input": "2023-12-11T16:50:30.216696Z",
     "iopub.status.busy": "2023-12-11T16:50:30.216294Z",
     "iopub.status.idle": "2023-12-11T16:50:30.224353Z",
     "shell.execute_reply": "2023-12-11T16:50:30.223416Z"
    },
    "papermill": {
     "duration": 0.035155,
     "end_time": "2023-12-11T16:50:30.227412",
     "exception": false,
     "start_time": "2023-12-11T16:50:30.192257",
     "status": "completed"
    },
    "tags": []
   },
   "outputs": [
    {
     "data": {
      "text/plain": [
       "Mission\n",
       "Embassy                  76\n",
       "Consulate-General        33\n",
       "Consular office           6\n",
       "Vice-consulate            6\n",
       "Consulate                 3\n",
       "Representative Office     1\n",
       "Name: count, dtype: int64"
      ]
     },
     "execution_count": 13,
     "metadata": {},
     "output_type": "execute_result"
    }
   ],
   "source": [
    "df.Mission.value_counts()"
   ]
  },
  {
   "cell_type": "markdown",
   "id": "fa512255",
   "metadata": {
    "papermill": {
     "duration": 0.022494,
     "end_time": "2023-12-11T16:50:30.273055",
     "exception": false,
     "start_time": "2023-12-11T16:50:30.250561",
     "status": "completed"
    },
    "tags": []
   },
   "source": [
    "A waffle chart can be created now to show the proportion of Portuguese mission types."
   ]
  },
  {
   "cell_type": "code",
   "execution_count": 14,
   "id": "4c05852a",
   "metadata": {
    "execution": {
     "iopub.execute_input": "2023-12-11T16:50:30.321796Z",
     "iopub.status.busy": "2023-12-11T16:50:30.321357Z",
     "iopub.status.idle": "2023-12-11T16:50:30.983167Z",
     "shell.execute_reply": "2023-12-11T16:50:30.981292Z"
    },
    "papermill": {
     "duration": 0.688906,
     "end_time": "2023-12-11T16:50:30.985841",
     "exception": false,
     "start_time": "2023-12-11T16:50:30.296935",
     "status": "completed"
    },
    "tags": []
   },
   "outputs": [
    {
     "data": {
      "image/png": "[encoded data removed]",
      "text/plain": [
       "<Waffle size 1500x1000 with 1 Axes>"
      ]
     },
     "metadata": {},
     "output_type": "display_data"
    }
   ],
   "source": [
    "data = {\"Embassy\": 76, \"Consulate-General\": 33, \"Consular office\": 6,\n",
    "        \"Vice-consulate\" : 6, \"Consulate\": 3, 'Representative Office': 1}\n",
    "fig = plt.figure(\n",
    "    FigureClass=Waffle,\n",
    "    rows=5,\n",
    "    values=data,\n",
    "    figsize=(15, 10),\n",
    "    cmap_name=\"Dark2\",\n",
    "    title={'label': 'Portuguese diplomatic mission types', 'loc': 'center',\n",
    "           'fontdict': {'fontsize': 16, 'color': '#363945'}\n",
    "    },\n",
    "    labels=[f\"{k} ({int(v / sum(data.values()) * 100)}%)\" for k, v in data.items()],\n",
    "    legend={'loc': 'lower left', 'bbox_to_anchor': (0, -0.2), 'ncol': len(data),\n",
    "            'framealpha': 0,'fontsize': 11}\n",
    ")"
   ]
  },
  {
   "cell_type": "markdown",
   "id": "721fe108",
   "metadata": {
    "papermill": {
     "duration": 0.025686,
     "end_time": "2023-12-11T16:50:31.035383",
     "exception": false,
     "start_time": "2023-12-11T16:50:31.009697",
     "status": "completed"
    },
    "tags": []
   },
   "source": [
    "It's time to clean up the 'ca' (concurrent accreditation) column. First, we need to check all rows that are updated with International organizations."
   ]
  },
  {
   "cell_type": "code",
   "execution_count": 15,
   "id": "d20f4d84",
   "metadata": {
    "execution": {
     "iopub.execute_input": "2023-12-11T16:50:31.086160Z",
     "iopub.status.busy": "2023-12-11T16:50:31.085770Z",
     "iopub.status.idle": "2023-12-11T16:50:31.102413Z",
     "shell.execute_reply": "2023-12-11T16:50:31.101396Z"
    },
    "papermill": {
     "duration": 0.043866,
     "end_time": "2023-12-11T16:50:31.104748",
     "exception": false,
     "start_time": "2023-12-11T16:50:31.060882",
     "status": "completed"
    },
    "tags": []
   },
   "outputs": [
    {
     "data": {
      "text/html": [
       "<div>\n",
       "<style scoped>\n",
       "    .dataframe tbody tr th:only-of-type {\n",
       "        vertical-align: middle;\n",
       "    }\n",
       "\n",
       "    .dataframe tbody tr th {\n",
       "        vertical-align: top;\n",
       "    }\n",
       "\n",
       "    .dataframe thead th {\n",
       "        text-align: right;\n",
       "    }\n",
       "</style>\n",
       "<table border=\"1\" class=\"dataframe\">\n",
       "  <thead>\n",
       "    <tr style=\"text-align: right;\">\n",
       "      <th></th>\n",
       "      <th>Host_country</th>\n",
       "      <th>Host_city</th>\n",
       "      <th>Mission</th>\n",
       "      <th>ca</th>\n",
       "      <th>Continent</th>\n",
       "    </tr>\n",
       "  </thead>\n",
       "  <tbody>\n",
       "    <tr>\n",
       "      <th>8</th>\n",
       "      <td>Ethiopia</td>\n",
       "      <td>Addis Ababa</td>\n",
       "      <td>Embassy</td>\n",
       "      <td>Countries:  Djibouti Rwanda Somalia South Suda...</td>\n",
       "      <td>Africa</td>\n",
       "    </tr>\n",
       "    <tr>\n",
       "      <th>11</th>\n",
       "      <td>Kenya</td>\n",
       "      <td>Nairobi</td>\n",
       "      <td>Embassy</td>\n",
       "      <td>International Organizations:  United Nations U...</td>\n",
       "      <td>Africa</td>\n",
       "    </tr>\n",
       "    <tr>\n",
       "      <th>46</th>\n",
       "      <td>United States</td>\n",
       "      <td>Washington, D.C.</td>\n",
       "      <td>Embassy</td>\n",
       "      <td>Countries:  Bahamas International Organization...</td>\n",
       "      <td>Americas</td>\n",
       "    </tr>\n",
       "    <tr>\n",
       "      <th>47</th>\n",
       "      <td>United States</td>\n",
       "      <td>Boston</td>\n",
       "      <td>Consulate-General</td>\n",
       "      <td>Countries:  Bahamas International Organization...</td>\n",
       "      <td>Americas</td>\n",
       "    </tr>\n",
       "    <tr>\n",
       "      <th>48</th>\n",
       "      <td>United States</td>\n",
       "      <td>New York City</td>\n",
       "      <td>Consulate-General</td>\n",
       "      <td>Countries:  Bahamas International Organization...</td>\n",
       "      <td>Americas</td>\n",
       "    </tr>\n",
       "    <tr>\n",
       "      <th>49</th>\n",
       "      <td>United States</td>\n",
       "      <td>Newark</td>\n",
       "      <td>Consulate-General</td>\n",
       "      <td>Countries:  Bahamas International Organization...</td>\n",
       "      <td>Americas</td>\n",
       "    </tr>\n",
       "    <tr>\n",
       "      <th>50</th>\n",
       "      <td>United States</td>\n",
       "      <td>San Francisco</td>\n",
       "      <td>Consulate-General</td>\n",
       "      <td>Countries:  Bahamas International Organization...</td>\n",
       "      <td>Americas</td>\n",
       "    </tr>\n",
       "    <tr>\n",
       "      <th>51</th>\n",
       "      <td>United States</td>\n",
       "      <td>New Bedford</td>\n",
       "      <td>Consulate</td>\n",
       "      <td>Countries:  Bahamas International Organization...</td>\n",
       "      <td>Americas</td>\n",
       "    </tr>\n",
       "    <tr>\n",
       "      <th>52</th>\n",
       "      <td>United States</td>\n",
       "      <td>Providence</td>\n",
       "      <td>Vice-consulate</td>\n",
       "      <td>Countries:  Bahamas International Organization...</td>\n",
       "      <td>Americas</td>\n",
       "    </tr>\n",
       "    <tr>\n",
       "      <th>54</th>\n",
       "      <td>Venezuela</td>\n",
       "      <td>Caracas</td>\n",
       "      <td>Embassy</td>\n",
       "      <td>Countries:  Antigua and Barbuda Barbados Guyan...</td>\n",
       "      <td>Americas</td>\n",
       "    </tr>\n",
       "    <tr>\n",
       "      <th>55</th>\n",
       "      <td>Venezuela</td>\n",
       "      <td>Valencia</td>\n",
       "      <td>Consulate-General</td>\n",
       "      <td>Countries:  Antigua and Barbuda Barbados Guyan...</td>\n",
       "      <td>Americas</td>\n",
       "    </tr>\n",
       "    <tr>\n",
       "      <th>63</th>\n",
       "      <td>Indonesia</td>\n",
       "      <td>Jakarta</td>\n",
       "      <td>Embassy</td>\n",
       "      <td>Countries:  Brunei  Philippines International ...</td>\n",
       "      <td>Asia</td>\n",
       "    </tr>\n",
       "    <tr>\n",
       "      <th>77</th>\n",
       "      <td>Austria</td>\n",
       "      <td>Vienna</td>\n",
       "      <td>Embassy</td>\n",
       "      <td>Countries:  Slovenia International Organizatio...</td>\n",
       "      <td>Europe</td>\n",
       "    </tr>\n",
       "    <tr>\n",
       "      <th>101</th>\n",
       "      <td>Italy</td>\n",
       "      <td>Rome</td>\n",
       "      <td>Embassy</td>\n",
       "      <td>Countries:  Albania Malta San Marino Internati...</td>\n",
       "      <td>Europe</td>\n",
       "    </tr>\n",
       "    <tr>\n",
       "      <th>103</th>\n",
       "      <td>Netherlands</td>\n",
       "      <td>The Hague</td>\n",
       "      <td>Embassy</td>\n",
       "      <td>International Organizations:  OPCW</td>\n",
       "      <td>Europe</td>\n",
       "    </tr>\n",
       "  </tbody>\n",
       "</table>\n",
       "</div>"
      ],
      "text/plain": [
       "      Host_country         Host_city            Mission  \\\n",
       "8         Ethiopia       Addis Ababa            Embassy   \n",
       "11           Kenya           Nairobi            Embassy   \n",
       "46   United States  Washington, D.C.            Embassy   \n",
       "47   United States            Boston  Consulate-General   \n",
       "48   United States     New York City  Consulate-General   \n",
       "49   United States            Newark  Consulate-General   \n",
       "50   United States     San Francisco  Consulate-General   \n",
       "51   United States       New Bedford          Consulate   \n",
       "52   United States        Providence     Vice-consulate   \n",
       "54       Venezuela           Caracas            Embassy   \n",
       "55       Venezuela          Valencia  Consulate-General   \n",
       "63       Indonesia           Jakarta            Embassy   \n",
       "77         Austria            Vienna            Embassy   \n",
       "101          Italy              Rome            Embassy   \n",
       "103    Netherlands         The Hague            Embassy   \n",
       "\n",
       "                                                    ca Continent  \n",
       "8    Countries:  Djibouti Rwanda Somalia South Suda...    Africa  \n",
       "11   International Organizations:  United Nations U...    Africa  \n",
       "46   Countries:  Bahamas International Organization...  Americas  \n",
       "47   Countries:  Bahamas International Organization...  Americas  \n",
       "48   Countries:  Bahamas International Organization...  Americas  \n",
       "49   Countries:  Bahamas International Organization...  Americas  \n",
       "50   Countries:  Bahamas International Organization...  Americas  \n",
       "51   Countries:  Bahamas International Organization...  Americas  \n",
       "52   Countries:  Bahamas International Organization...  Americas  \n",
       "54   Countries:  Antigua and Barbuda Barbados Guyan...  Americas  \n",
       "55   Countries:  Antigua and Barbuda Barbados Guyan...  Americas  \n",
       "63   Countries:  Brunei  Philippines International ...      Asia  \n",
       "77   Countries:  Slovenia International Organizatio...    Europe  \n",
       "101  Countries:  Albania Malta San Marino Internati...    Europe  \n",
       "103                 International Organizations:  OPCW    Europe  "
      ]
     },
     "execution_count": 15,
     "metadata": {},
     "output_type": "execute_result"
    }
   ],
   "source": [
    "df[df['ca'].str.contains('International', na = False)]"
   ]
  },
  {
   "cell_type": "markdown",
   "id": "18b5a33b",
   "metadata": {
    "papermill": {
     "duration": 0.024093,
     "end_time": "2023-12-11T16:50:31.152381",
     "exception": false,
     "start_time": "2023-12-11T16:50:31.128288",
     "status": "completed"
    },
    "tags": []
   },
   "source": [
    "There are a few, but only two of them updated solely with International organizations. Let's check what rows are updated with Sovereign Entity."
   ]
  },
  {
   "cell_type": "code",
   "execution_count": 16,
   "id": "fe89e180",
   "metadata": {
    "execution": {
     "iopub.execute_input": "2023-12-11T16:50:31.202900Z",
     "iopub.status.busy": "2023-12-11T16:50:31.201941Z",
     "iopub.status.idle": "2023-12-11T16:50:31.215258Z",
     "shell.execute_reply": "2023-12-11T16:50:31.214275Z"
    },
    "papermill": {
     "duration": 0.04057,
     "end_time": "2023-12-11T16:50:31.217573",
     "exception": false,
     "start_time": "2023-12-11T16:50:31.177003",
     "status": "completed"
    },
    "tags": []
   },
   "outputs": [
    {
     "data": {
      "text/html": [
       "<div>\n",
       "<style scoped>\n",
       "    .dataframe tbody tr th:only-of-type {\n",
       "        vertical-align: middle;\n",
       "    }\n",
       "\n",
       "    .dataframe tbody tr th {\n",
       "        vertical-align: top;\n",
       "    }\n",
       "\n",
       "    .dataframe thead th {\n",
       "        text-align: right;\n",
       "    }\n",
       "</style>\n",
       "<table border=\"1\" class=\"dataframe\">\n",
       "  <thead>\n",
       "    <tr style=\"text-align: right;\">\n",
       "      <th></th>\n",
       "      <th>Host_country</th>\n",
       "      <th>Host_city</th>\n",
       "      <th>Mission</th>\n",
       "      <th>ca</th>\n",
       "      <th>Continent</th>\n",
       "    </tr>\n",
       "  </thead>\n",
       "  <tbody>\n",
       "    <tr>\n",
       "      <th>98</th>\n",
       "      <td>Holy See</td>\n",
       "      <td>Rome[e]</td>\n",
       "      <td>Embassy</td>\n",
       "      <td>Sovereign Entity:  Sovereign Military Order of...</td>\n",
       "      <td>Europe</td>\n",
       "    </tr>\n",
       "  </tbody>\n",
       "</table>\n",
       "</div>"
      ],
      "text/plain": [
       "   Host_country Host_city  Mission  \\\n",
       "98     Holy See   Rome[e]  Embassy   \n",
       "\n",
       "                                                   ca Continent  \n",
       "98  Sovereign Entity:  Sovereign Military Order of...    Europe  "
      ]
     },
     "execution_count": 16,
     "metadata": {},
     "output_type": "execute_result"
    }
   ],
   "source": [
    "df[df['ca'].str.contains('Entity', na = False)]"
   ]
  },
  {
   "cell_type": "markdown",
   "id": "2bbe9448",
   "metadata": {
    "papermill": {
     "duration": 0.023884,
     "end_time": "2023-12-11T16:50:31.266743",
     "exception": false,
     "start_time": "2023-12-11T16:50:31.242859",
     "status": "completed"
    },
    "tags": []
   },
   "source": [
    "There is only one. Now we can replace these rows with white spaces by using pandas at property to set the value at a specified row/column pair."
   ]
  },
  {
   "cell_type": "code",
   "execution_count": 17,
   "id": "610fef25",
   "metadata": {
    "execution": {
     "iopub.execute_input": "2023-12-11T16:50:31.318439Z",
     "iopub.status.busy": "2023-12-11T16:50:31.317263Z",
     "iopub.status.idle": "2023-12-11T16:50:31.324198Z",
     "shell.execute_reply": "2023-12-11T16:50:31.322792Z"
    },
    "papermill": {
     "duration": 0.035698,
     "end_time": "2023-12-11T16:50:31.326904",
     "exception": false,
     "start_time": "2023-12-11T16:50:31.291206",
     "status": "completed"
    },
    "tags": []
   },
   "outputs": [],
   "source": [
    "df.at[11,'ca']=''\n",
    "df.at[98,'ca']=''\n",
    "df.at[103,'ca']=''"
   ]
  },
  {
   "cell_type": "markdown",
   "id": "1a256010",
   "metadata": {
    "papermill": {
     "duration": 0.023753,
     "end_time": "2023-12-11T16:50:31.375706",
     "exception": false,
     "start_time": "2023-12-11T16:50:31.351953",
     "status": "completed"
    },
    "tags": []
   },
   "source": [
    "The of values in the'ca' (concurrent accreditation) column are separated both by : and whitespaces. Lets's split this column by : and assign it into a new dataframe."
   ]
  },
  {
   "cell_type": "code",
   "execution_count": 18,
   "id": "80fb3357",
   "metadata": {
    "execution": {
     "iopub.execute_input": "2023-12-11T16:50:31.428055Z",
     "iopub.status.busy": "2023-12-11T16:50:31.426739Z",
     "iopub.status.idle": "2023-12-11T16:50:31.439184Z",
     "shell.execute_reply": "2023-12-11T16:50:31.438398Z"
    },
    "papermill": {
     "duration": 0.041177,
     "end_time": "2023-12-11T16:50:31.441515",
     "exception": false,
     "start_time": "2023-12-11T16:50:31.400338",
     "status": "completed"
    },
    "tags": []
   },
   "outputs": [
    {
     "data": {
      "text/html": [
       "<div>\n",
       "<style scoped>\n",
       "    .dataframe tbody tr th:only-of-type {\n",
       "        vertical-align: middle;\n",
       "    }\n",
       "\n",
       "    .dataframe tbody tr th {\n",
       "        vertical-align: top;\n",
       "    }\n",
       "\n",
       "    .dataframe thead th {\n",
       "        text-align: right;\n",
       "    }\n",
       "</style>\n",
       "<table border=\"1\" class=\"dataframe\">\n",
       "  <thead>\n",
       "    <tr style=\"text-align: right;\">\n",
       "      <th></th>\n",
       "      <th>0</th>\n",
       "      <th>1</th>\n",
       "      <th>2</th>\n",
       "    </tr>\n",
       "  </thead>\n",
       "  <tbody>\n",
       "    <tr>\n",
       "      <th>0</th>\n",
       "      <td>Countries</td>\n",
       "      <td>Mali</td>\n",
       "      <td>None</td>\n",
       "    </tr>\n",
       "    <tr>\n",
       "      <th>1</th>\n",
       "      <td>NaN</td>\n",
       "      <td>NaN</td>\n",
       "      <td>NaN</td>\n",
       "    </tr>\n",
       "  </tbody>\n",
       "</table>\n",
       "</div>"
      ],
      "text/plain": [
       "           0       1     2\n",
       "0  Countries    Mali  None\n",
       "1        NaN     NaN   NaN"
      ]
     },
     "execution_count": 18,
     "metadata": {},
     "output_type": "execute_result"
    }
   ],
   "source": [
    "variable_split = df['ca'].str.split(':',expand=True)\n",
    "variable_split.head(2)"
   ]
  },
  {
   "cell_type": "code",
   "execution_count": 19,
   "id": "8cc1f21e",
   "metadata": {
    "execution": {
     "iopub.execute_input": "2023-12-11T16:50:31.492813Z",
     "iopub.status.busy": "2023-12-11T16:50:31.492074Z",
     "iopub.status.idle": "2023-12-11T16:50:31.497815Z",
     "shell.execute_reply": "2023-12-11T16:50:31.497065Z"
    },
    "papermill": {
     "duration": 0.033418,
     "end_time": "2023-12-11T16:50:31.499982",
     "exception": false,
     "start_time": "2023-12-11T16:50:31.466564",
     "status": "completed"
    },
    "tags": []
   },
   "outputs": [
    {
     "data": {
      "text/plain": [
       "(125, 3)"
      ]
     },
     "execution_count": 19,
     "metadata": {},
     "output_type": "execute_result"
    }
   ],
   "source": [
    "variable_split.shape"
   ]
  },
  {
   "cell_type": "markdown",
   "id": "ddf35c09",
   "metadata": {
    "papermill": {
     "duration": 0.023686,
     "end_time": "2023-12-11T16:50:31.549505",
     "exception": false,
     "start_time": "2023-12-11T16:50:31.525819",
     "status": "completed"
    },
    "tags": []
   },
   "source": [
    "Now we can check the value counts in each three columns."
   ]
  },
  {
   "cell_type": "code",
   "execution_count": 20,
   "id": "268e3b71",
   "metadata": {
    "execution": {
     "iopub.execute_input": "2023-12-11T16:50:31.600294Z",
     "iopub.status.busy": "2023-12-11T16:50:31.599899Z",
     "iopub.status.idle": "2023-12-11T16:50:31.608927Z",
     "shell.execute_reply": "2023-12-11T16:50:31.607829Z"
    },
    "papermill": {
     "duration": 0.038,
     "end_time": "2023-12-11T16:50:31.611734",
     "exception": false,
     "start_time": "2023-12-11T16:50:31.573734",
     "status": "completed"
    },
    "tags": []
   },
   "outputs": [
    {
     "data": {
      "text/plain": [
       "0\n",
       "Countries    71\n",
       "              3\n",
       "Name: count, dtype: int64"
      ]
     },
     "execution_count": 20,
     "metadata": {},
     "output_type": "execute_result"
    }
   ],
   "source": [
    "variable_split[0].value_counts()"
   ]
  },
  {
   "cell_type": "markdown",
   "id": "0ce23adb",
   "metadata": {
    "papermill": {
     "duration": 0.025338,
     "end_time": "2023-12-11T16:50:31.661312",
     "exception": false,
     "start_time": "2023-12-11T16:50:31.635974",
     "status": "completed"
    },
    "tags": []
   },
   "source": [
    "This column can be dropped because we neither need 'Countries' nor the three columns with whitespaces."
   ]
  },
  {
   "cell_type": "code",
   "execution_count": 21,
   "id": "e73f3d60",
   "metadata": {
    "execution": {
     "iopub.execute_input": "2023-12-11T16:50:31.714767Z",
     "iopub.status.busy": "2023-12-11T16:50:31.714295Z",
     "iopub.status.idle": "2023-12-11T16:50:31.724494Z",
     "shell.execute_reply": "2023-12-11T16:50:31.723183Z"
    },
    "papermill": {
     "duration": 0.040543,
     "end_time": "2023-12-11T16:50:31.727563",
     "exception": false,
     "start_time": "2023-12-11T16:50:31.687020",
     "status": "completed"
    },
    "tags": []
   },
   "outputs": [
    {
     "data": {
      "text/plain": [
       "1\n",
       "  Monaco                                                                                                                                                         7\n",
       "  Bahamas International Organizations                                                                                                                            7\n",
       "  Liechtenstein                                                                                                                                                  5\n",
       "  Andorra                                                                                                                                                        4\n",
       "  Mongolia                                                                                                                                                       4\n",
       "  Botswana Comoros Eswatini Lesotho Madagascar                                                                                                                   3\n",
       "  Bangladesh Bhutan Maldives Nepal Sri Lanka                                                                                                                     2\n",
       "  Antigua and Barbuda Barbados Guyana Jamaica Saint Kitts and Nevis Saint Vincent and the Grenadines Suriname Trinidad and Tobago International Organizations    2\n",
       "  Cook Islands Fiji Kiribati Marshall Islands Micronesia Nauru New Zealand Niue Palau Papua New Guinea Samoa Solomon Islands Tonga Tuvalu Vanuatu                2\n",
       "  Mauritius Seychelles Tanzania                                                                                                                                  2\n",
       "  Moldova                                                                                                                                                        1\n",
       "  Iceland                                                                                                                                                        1\n",
       "  Albania Malta San Marino International Organizations                                                                                                           1\n",
       "  Cambodia Laos Malaysia Myanmar Vietnam                                                                                                                         1\n",
       "  Estonia                                                                                                                                                        1\n",
       "  Lithuania                                                                                                                                                      1\n",
       "  Lebanon Syria                                                                                                                                                  1\n",
       "  Armenia Belarus Tajikistan Uzbekistan                                                                                                                          1\n",
       "  Bosnia and Herzegovina  Montenegro North Macedonia                                                                                                             1\n",
       "  Latvia                                                                                                                                                         1\n",
       "  Kosovo                                                                                                                                                         1\n",
       "  Slovenia International Organizations                                                                                                                           1\n",
       "  Iraq Kuwait                                                                                                                                                    1\n",
       "  Azerbaijan  Georgia  Turkmenistan                                                                                                                              1\n",
       "  Mali                                                                                                                                                           1\n",
       "  North Korea                                                                                                                                                    1\n",
       "  Bahrain Oman Yemen                                                                                                                                             1\n",
       "  Eritrea  Jordan  Sudan                                                                                                                                         1\n",
       "  Djibouti Rwanda Somalia South Sudan International Organizations                                                                                                1\n",
       "  Mauritania                                                                                                                                                     1\n",
       "  Benin Chad Cameroon Ghana Niger Togo                                                                                                                           1\n",
       "  Gabon                                                                                                                                                          1\n",
       "  Burkina Faso Gambia Guinea Liberia Sierra Leone                                                                                                                1\n",
       "  Malawi Zambia                                                                                                                                                  1\n",
       "  Paraguay                                                                                                                                                       1\n",
       "  Dominica Ecuador Saint Lucia                                                                                                                                   1\n",
       "  Belize Dominican Republic El Salvador Guatemala Honduras Haiti                                                                                                 1\n",
       "  Costa Rica                                                                                                                                                     1\n",
       "  Bolivia                                                                                                                                                        1\n",
       "  Brunei  Philippines International Organizations                                                                                                                1\n",
       "  Burundi Central African Republic Congo-Brazzaville Uganda                                                                                                      1\n",
       "  Afghanistan                                                                                                                                                    1\n",
       "  Kyrgyzstan                                                                                                                                                     1\n",
       "Name: count, dtype: int64"
      ]
     },
     "execution_count": 21,
     "metadata": {},
     "output_type": "execute_result"
    }
   ],
   "source": [
    "variable_split[1].value_counts()"
   ]
  },
  {
   "cell_type": "markdown",
   "id": "89baf2ef",
   "metadata": {
    "papermill": {
     "duration": 0.026403,
     "end_time": "2023-12-11T16:50:31.779160",
     "exception": false,
     "start_time": "2023-12-11T16:50:31.752757",
     "status": "completed"
    },
    "tags": []
   },
   "source": [
    "This column we will keep. Some rows are still updated with International organizations and these require further cleaning."
   ]
  },
  {
   "cell_type": "code",
   "execution_count": 22,
   "id": "d3128348",
   "metadata": {
    "execution": {
     "iopub.execute_input": "2023-12-11T16:50:31.832204Z",
     "iopub.status.busy": "2023-12-11T16:50:31.831804Z",
     "iopub.status.idle": "2023-12-11T16:50:31.841039Z",
     "shell.execute_reply": "2023-12-11T16:50:31.839682Z"
    },
    "papermill": {
     "duration": 0.038221,
     "end_time": "2023-12-11T16:50:31.843471",
     "exception": false,
     "start_time": "2023-12-11T16:50:31.805250",
     "status": "completed"
    },
    "tags": []
   },
   "outputs": [
    {
     "data": {
      "text/plain": [
       "2\n",
       "  Organization of American States[b]                                                                          7\n",
       "  Caribbean Community[c]                                                                                      2\n",
       "  African Union[a]                                                                                            1\n",
       "  Association of Southeast Asian Nations[d]                                                                   1\n",
       "  United Nations International Atomic Energy Agency  UNIDO  UNODC                                             1\n",
       "  Food and Agriculture Organization  International Fund for Agricultural Development  World Food Programme    1\n",
       "Name: count, dtype: int64"
      ]
     },
     "execution_count": 22,
     "metadata": {},
     "output_type": "execute_result"
    }
   ],
   "source": [
    "variable_split[2].value_counts()"
   ]
  },
  {
   "cell_type": "markdown",
   "id": "b5a45d9c",
   "metadata": {
    "papermill": {
     "duration": 0.024866,
     "end_time": "2023-12-11T16:50:31.893945",
     "exception": false,
     "start_time": "2023-12-11T16:50:31.869079",
     "status": "completed"
    },
    "tags": []
   },
   "source": [
    "Great, we don't need this column so we can now drop column 0 and 2.\n"
   ]
  },
  {
   "cell_type": "code",
   "execution_count": 23,
   "id": "1e810110",
   "metadata": {
    "execution": {
     "iopub.execute_input": "2023-12-11T16:50:31.949300Z",
     "iopub.status.busy": "2023-12-11T16:50:31.948874Z",
     "iopub.status.idle": "2023-12-11T16:50:31.955824Z",
     "shell.execute_reply": "2023-12-11T16:50:31.954573Z"
    },
    "papermill": {
     "duration": 0.036494,
     "end_time": "2023-12-11T16:50:31.958843",
     "exception": false,
     "start_time": "2023-12-11T16:50:31.922349",
     "status": "completed"
    },
    "tags": []
   },
   "outputs": [],
   "source": [
    "variable_split = variable_split.drop(columns=([0, 2]))"
   ]
  },
  {
   "cell_type": "markdown",
   "id": "22aad892",
   "metadata": {
    "papermill": {
     "duration": 0.025035,
     "end_time": "2023-12-11T16:50:32.009310",
     "exception": false,
     "start_time": "2023-12-11T16:50:31.984275",
     "status": "completed"
    },
    "tags": []
   },
   "source": [
    "The next step is to clean up column 1. To do so we need to split this column."
   ]
  },
  {
   "cell_type": "code",
   "execution_count": 24,
   "id": "70432306",
   "metadata": {
    "execution": {
     "iopub.execute_input": "2023-12-11T16:50:32.062422Z",
     "iopub.status.busy": "2023-12-11T16:50:32.062003Z",
     "iopub.status.idle": "2023-12-11T16:50:32.091864Z",
     "shell.execute_reply": "2023-12-11T16:50:32.090459Z"
    },
    "papermill": {
     "duration": 0.060999,
     "end_time": "2023-12-11T16:50:32.095418",
     "exception": false,
     "start_time": "2023-12-11T16:50:32.034419",
     "status": "completed"
    },
    "tags": []
   },
   "outputs": [
    {
     "name": "stdout",
     "output_type": "stream",
     "text": [
      "(125, 21)\n"
     ]
    },
    {
     "data": {
      "text/html": [
       "<div>\n",
       "<style scoped>\n",
       "    .dataframe tbody tr th:only-of-type {\n",
       "        vertical-align: middle;\n",
       "    }\n",
       "\n",
       "    .dataframe tbody tr th {\n",
       "        vertical-align: top;\n",
       "    }\n",
       "\n",
       "    .dataframe thead th {\n",
       "        text-align: right;\n",
       "    }\n",
       "</style>\n",
       "<table border=\"1\" class=\"dataframe\">\n",
       "  <thead>\n",
       "    <tr style=\"text-align: right;\">\n",
       "      <th></th>\n",
       "      <th>0</th>\n",
       "      <th>1</th>\n",
       "      <th>2</th>\n",
       "      <th>3</th>\n",
       "      <th>4</th>\n",
       "      <th>5</th>\n",
       "      <th>6</th>\n",
       "      <th>7</th>\n",
       "      <th>8</th>\n",
       "      <th>9</th>\n",
       "      <th>...</th>\n",
       "      <th>11</th>\n",
       "      <th>12</th>\n",
       "      <th>13</th>\n",
       "      <th>14</th>\n",
       "      <th>15</th>\n",
       "      <th>16</th>\n",
       "      <th>17</th>\n",
       "      <th>18</th>\n",
       "      <th>19</th>\n",
       "      <th>20</th>\n",
       "    </tr>\n",
       "  </thead>\n",
       "  <tbody>\n",
       "    <tr>\n",
       "      <th>0</th>\n",
       "      <td>Mali</td>\n",
       "      <td>None</td>\n",
       "      <td>None</td>\n",
       "      <td>None</td>\n",
       "      <td>None</td>\n",
       "      <td>None</td>\n",
       "      <td>None</td>\n",
       "      <td>None</td>\n",
       "      <td>None</td>\n",
       "      <td>None</td>\n",
       "      <td>...</td>\n",
       "      <td>None</td>\n",
       "      <td>None</td>\n",
       "      <td>None</td>\n",
       "      <td>None</td>\n",
       "      <td>None</td>\n",
       "      <td>None</td>\n",
       "      <td>None</td>\n",
       "      <td>None</td>\n",
       "      <td>None</td>\n",
       "      <td>None</td>\n",
       "    </tr>\n",
       "    <tr>\n",
       "      <th>1</th>\n",
       "      <td>NaN</td>\n",
       "      <td>NaN</td>\n",
       "      <td>NaN</td>\n",
       "      <td>NaN</td>\n",
       "      <td>NaN</td>\n",
       "      <td>NaN</td>\n",
       "      <td>NaN</td>\n",
       "      <td>NaN</td>\n",
       "      <td>NaN</td>\n",
       "      <td>NaN</td>\n",
       "      <td>...</td>\n",
       "      <td>NaN</td>\n",
       "      <td>NaN</td>\n",
       "      <td>NaN</td>\n",
       "      <td>NaN</td>\n",
       "      <td>NaN</td>\n",
       "      <td>NaN</td>\n",
       "      <td>NaN</td>\n",
       "      <td>NaN</td>\n",
       "      <td>NaN</td>\n",
       "      <td>NaN</td>\n",
       "    </tr>\n",
       "  </tbody>\n",
       "</table>\n",
       "<p>2 rows × 21 columns</p>\n",
       "</div>"
      ],
      "text/plain": [
       "     0     1     2     3     4     5     6     7     8     9   ...    11  \\\n",
       "0  Mali  None  None  None  None  None  None  None  None  None  ...  None   \n",
       "1   NaN   NaN   NaN   NaN   NaN   NaN   NaN   NaN   NaN   NaN  ...   NaN   \n",
       "\n",
       "     12    13    14    15    16    17    18    19    20  \n",
       "0  None  None  None  None  None  None  None  None  None  \n",
       "1   NaN   NaN   NaN   NaN   NaN   NaN   NaN   NaN   NaN  \n",
       "\n",
       "[2 rows x 21 columns]"
      ]
     },
     "execution_count": 24,
     "metadata": {},
     "output_type": "execute_result"
    }
   ],
   "source": [
    "variable_split = variable_split[1].str.split(expand=True)\n",
    "print(variable_split.shape)\n",
    "variable_split.head(2)"
   ]
  },
  {
   "cell_type": "markdown",
   "id": "89083fe5",
   "metadata": {
    "papermill": {
     "duration": 0.035988,
     "end_time": "2023-12-11T16:50:32.165640",
     "exception": false,
     "start_time": "2023-12-11T16:50:32.129652",
     "status": "completed"
    },
    "tags": []
   },
   "source": [
    "The problem is this gives the count of each string of countries instead of each country. What we would want instead is one column for each country, where the values in the column are 1 when that country is a concurrent acreditation and 0 when it is not. So we use the pd.get_dummies function to convert the country variable into dummy variables, reshape the dataframe by using pandas stack () function while keeping the NaN values by adding dropna=False explicitly (beacuse missing values would be dropped by default) and use pandas groupby(level=0).sum() method beacuse of the multi-indexed columns and finally we assign it into a new dataframe."
   ]
  },
  {
   "cell_type": "code",
   "execution_count": 25,
   "id": "2633d4e3",
   "metadata": {
    "execution": {
     "iopub.execute_input": "2023-12-11T16:50:32.243012Z",
     "iopub.status.busy": "2023-12-11T16:50:32.242478Z",
     "iopub.status.idle": "2023-12-11T16:50:32.286889Z",
     "shell.execute_reply": "2023-12-11T16:50:32.285353Z"
    },
    "papermill": {
     "duration": 0.082774,
     "end_time": "2023-12-11T16:50:32.290158",
     "exception": false,
     "start_time": "2023-12-11T16:50:32.207384",
     "status": "completed"
    },
    "tags": []
   },
   "outputs": [],
   "source": [
    "dummy = pd.get_dummies(variable_split.stack(dropna = False)).apply(pd.Series).groupby(level=0).sum()"
   ]
  },
  {
   "cell_type": "markdown",
   "id": "6173ad66",
   "metadata": {
    "papermill": {
     "duration": 0.034491,
     "end_time": "2023-12-11T16:50:32.353099",
     "exception": false,
     "start_time": "2023-12-11T16:50:32.318608",
     "status": "completed"
    },
    "tags": []
   },
   "source": [
    "This is to check if this new dataframe has the same number of rows as the original dataframe."
   ]
  },
  {
   "cell_type": "code",
   "execution_count": 26,
   "id": "9daacd1a",
   "metadata": {
    "execution": {
     "iopub.execute_input": "2023-12-11T16:50:32.410469Z",
     "iopub.status.busy": "2023-12-11T16:50:32.409619Z",
     "iopub.status.idle": "2023-12-11T16:50:32.416968Z",
     "shell.execute_reply": "2023-12-11T16:50:32.415807Z"
    },
    "papermill": {
     "duration": 0.040333,
     "end_time": "2023-12-11T16:50:32.419476",
     "exception": false,
     "start_time": "2023-12-11T16:50:32.379143",
     "status": "completed"
    },
    "tags": []
   },
   "outputs": [
    {
     "data": {
      "text/plain": [
       "(125, 138)"
      ]
     },
     "execution_count": 26,
     "metadata": {},
     "output_type": "execute_result"
    }
   ],
   "source": [
    "dummy.shape"
   ]
  },
  {
   "cell_type": "markdown",
   "id": "4503d1b0",
   "metadata": {
    "papermill": {
     "duration": 0.026792,
     "end_time": "2023-12-11T16:50:32.472606",
     "exception": false,
     "start_time": "2023-12-11T16:50:32.445814",
     "status": "completed"
    },
    "tags": []
   },
   "source": [
    "The number of rows is correct (125) and noew we have 138 columns. Let's check what countries we have by printing them out."
   ]
  },
  {
   "cell_type": "code",
   "execution_count": 27,
   "id": "0d9616a9",
   "metadata": {
    "execution": {
     "iopub.execute_input": "2023-12-11T16:50:32.541056Z",
     "iopub.status.busy": "2023-12-11T16:50:32.540673Z",
     "iopub.status.idle": "2023-12-11T16:50:32.548421Z",
     "shell.execute_reply": "2023-12-11T16:50:32.546979Z"
    },
    "papermill": {
     "duration": 0.044735,
     "end_time": "2023-12-11T16:50:32.552538",
     "exception": false,
     "start_time": "2023-12-11T16:50:32.507803",
     "status": "completed"
    },
    "tags": []
   },
   "outputs": [
    {
     "name": "stdout",
     "output_type": "stream",
     "text": [
      "Afghanistan\n",
      "African\n",
      "Albania\n",
      "Andorra\n",
      "Antigua\n",
      "Armenia\n",
      "Azerbaijan\n",
      "Bahamas\n",
      "Bahrain\n",
      "Bangladesh\n",
      "Barbados\n",
      "Barbuda\n",
      "Belarus\n",
      "Belize\n",
      "Benin\n",
      "Bhutan\n",
      "Bolivia\n",
      "Bosnia\n",
      "Botswana\n",
      "Brunei\n",
      "Burkina\n",
      "Burundi\n",
      "Cambodia\n",
      "Cameroon\n",
      "Central\n",
      "Chad\n",
      "Comoros\n",
      "Congo-Brazzaville\n",
      "Cook\n",
      "Costa\n",
      "Djibouti\n",
      "Dominica\n",
      "Dominican\n",
      "Ecuador\n",
      "El\n",
      "Eritrea\n",
      "Estonia\n",
      "Eswatini\n",
      "Faso\n",
      "Fiji\n",
      "Gabon\n",
      "Gambia\n",
      "Georgia\n",
      "Ghana\n",
      "Grenadines\n",
      "Guatemala\n",
      "Guinea\n",
      "Guyana\n",
      "Haiti\n",
      "Herzegovina\n",
      "Honduras\n",
      "Iceland\n",
      "International\n",
      "Iraq\n",
      "Islands\n",
      "Jamaica\n",
      "Jordan\n",
      "Kiribati\n",
      "Kitts\n",
      "Korea\n",
      "Kosovo\n",
      "Kuwait\n",
      "Kyrgyzstan\n",
      "Lanka\n",
      "Laos\n",
      "Latvia\n",
      "Lebanon\n",
      "Leone\n",
      "Lesotho\n",
      "Liberia\n",
      "Liechtenstein\n",
      "Lithuania\n",
      "Lucia\n",
      "Macedonia\n",
      "Madagascar\n",
      "Malawi\n",
      "Malaysia\n",
      "Maldives\n",
      "Mali\n",
      "Malta\n",
      "Marino\n",
      "Marshall\n",
      "Mauritania\n",
      "Mauritius\n",
      "Micronesia\n",
      "Moldova\n",
      "Monaco\n",
      "Mongolia\n",
      "Montenegro\n",
      "Myanmar\n",
      "Nauru\n",
      "Nepal\n",
      "Nevis\n",
      "New\n",
      "Niger\n",
      "Niue\n",
      "North\n",
      "Oman\n",
      "Organizations\n",
      "Palau\n",
      "Papua\n",
      "Paraguay\n",
      "Philippines\n",
      "Republic\n",
      "Rica\n",
      "Rwanda\n",
      "Saint\n",
      "Salvador\n",
      "Samoa\n",
      "San\n",
      "Seychelles\n",
      "Sierra\n",
      "Slovenia\n",
      "Solomon\n",
      "Somalia\n",
      "South\n",
      "Sri\n",
      "Sudan\n",
      "Suriname\n",
      "Syria\n",
      "Tajikistan\n",
      "Tanzania\n",
      "Tobago\n",
      "Togo\n",
      "Tonga\n",
      "Trinidad\n",
      "Turkmenistan\n",
      "Tuvalu\n",
      "Uganda\n",
      "Uzbekistan\n",
      "Vanuatu\n",
      "Vietnam\n",
      "Vincent\n",
      "Yemen\n",
      "Zambia\n",
      "Zealand\n",
      "and\n",
      "the\n"
     ]
    }
   ],
   "source": [
    "for col in dummy.columns:\n",
    "    print(col)"
   ]
  },
  {
   "cell_type": "markdown",
   "id": "4b2397f1",
   "metadata": {
    "papermill": {
     "duration": 0.032167,
     "end_time": "2023-12-11T16:50:32.619276",
     "exception": false,
     "start_time": "2023-12-11T16:50:32.587109",
     "status": "completed"
    },
    "tags": []
   },
   "source": [
    "Some countries name contains more than 1 word so we need to tidy these one ups by pandas rename () method."
   ]
  },
  {
   "cell_type": "code",
   "execution_count": 28,
   "id": "09f822b8",
   "metadata": {
    "execution": {
     "iopub.execute_input": "2023-12-11T16:50:32.685295Z",
     "iopub.status.busy": "2023-12-11T16:50:32.684317Z",
     "iopub.status.idle": "2023-12-11T16:50:32.695505Z",
     "shell.execute_reply": "2023-12-11T16:50:32.694294Z"
    },
    "papermill": {
     "duration": 0.046671,
     "end_time": "2023-12-11T16:50:32.698963",
     "exception": false,
     "start_time": "2023-12-11T16:50:32.652292",
     "status": "completed"
    },
    "tags": []
   },
   "outputs": [],
   "source": [
    "dummy = dummy.rename(columns={'Antigua': 'Antigua and Barbuda', 'Bosnia': 'Bosnia and Herzegovina', 'Burkina': 'Burkina Faso',\n",
    "                              'Central': 'Central African Republic','Cook': 'Cook Islands', 'Costa': 'Costa Rica',\n",
    "                              'Dominican': 'Dominican Republic', 'El': 'El Salvador', 'Marshall': 'Marshall Islands',\n",
    "                              'New': 'New Zealand', 'Korea': 'North Korea', 'Macedonia': 'North Macedonia',\n",
    "                              'Papua':'Papua New Guinea','San': 'San Marino','Lucia': 'Saint Lucia',\n",
    "                              'Kitts':'Saint Kitts and Nevis','Vincent':'Saint Vincent and the Grenadines',\n",
    "                              'Vincent':'Saint Vincent and the Grenadines','Sierra':'Sierra Leone',\n",
    "                              'Solomon': 'Solomon Islands','Sri':'Sri Lanka', 'South':'South Sudan'})"
   ]
  },
  {
   "cell_type": "markdown",
   "id": "a4d76248",
   "metadata": {
    "papermill": {
     "duration": 0.026104,
     "end_time": "2023-12-11T16:50:32.752807",
     "exception": false,
     "start_time": "2023-12-11T16:50:32.726703",
     "status": "completed"
    },
    "tags": []
   },
   "source": [
    "Let's drop those words that we don't need from the country names."
   ]
  },
  {
   "cell_type": "code",
   "execution_count": 29,
   "id": "20409a1d",
   "metadata": {
    "execution": {
     "iopub.execute_input": "2023-12-11T16:50:32.809955Z",
     "iopub.status.busy": "2023-12-11T16:50:32.808992Z",
     "iopub.status.idle": "2023-12-11T16:50:32.819605Z",
     "shell.execute_reply": "2023-12-11T16:50:32.818511Z"
    },
    "papermill": {
     "duration": 0.041803,
     "end_time": "2023-12-11T16:50:32.822365",
     "exception": false,
     "start_time": "2023-12-11T16:50:32.780562",
     "status": "completed"
    },
    "tags": []
   },
   "outputs": [],
   "source": [
    "dummy = dummy.drop(['African','and','Barbuda','Faso','Grenadines', 'Guinea', 'Herzegovina', 'International', 'Islands', 'Lanka',\n",
    "                    'Leone','Marino','Nevis','North', 'Organizations','Republic', 'Rica', 'Salvador','Saint','Sudan',\n",
    "                    'the','Zealand' ], axis=1)"
   ]
  },
  {
   "cell_type": "markdown",
   "id": "a777df67",
   "metadata": {
    "papermill": {
     "duration": 0.025447,
     "end_time": "2023-12-11T16:50:32.874545",
     "exception": false,
     "start_time": "2023-12-11T16:50:32.849098",
     "status": "completed"
    },
    "tags": []
   },
   "source": [
    "Now we can concatenate the original dataframe with clean encoded one."
   ]
  },
  {
   "cell_type": "code",
   "execution_count": 30,
   "id": "e3694a72",
   "metadata": {
    "execution": {
     "iopub.execute_input": "2023-12-11T16:50:32.932471Z",
     "iopub.status.busy": "2023-12-11T16:50:32.931570Z",
     "iopub.status.idle": "2023-12-11T16:50:32.938106Z",
     "shell.execute_reply": "2023-12-11T16:50:32.937023Z"
    },
    "papermill": {
     "duration": 0.038741,
     "end_time": "2023-12-11T16:50:32.940883",
     "exception": false,
     "start_time": "2023-12-11T16:50:32.902142",
     "status": "completed"
    },
    "tags": []
   },
   "outputs": [],
   "source": [
    "df1 = pd.concat([df, dummy], axis=1)"
   ]
  },
  {
   "cell_type": "markdown",
   "id": "cf1d4091",
   "metadata": {
    "papermill": {
     "duration": 0.027264,
     "end_time": "2023-12-11T16:50:32.994861",
     "exception": false,
     "start_time": "2023-12-11T16:50:32.967597",
     "status": "completed"
    },
    "tags": []
   },
   "source": [
    "This to check the row and column numbers of the new dataframe."
   ]
  },
  {
   "cell_type": "code",
   "execution_count": 31,
   "id": "8a38cf7f",
   "metadata": {
    "execution": {
     "iopub.execute_input": "2023-12-11T16:50:33.051637Z",
     "iopub.status.busy": "2023-12-11T16:50:33.050668Z",
     "iopub.status.idle": "2023-12-11T16:50:33.058695Z",
     "shell.execute_reply": "2023-12-11T16:50:33.057675Z"
    },
    "papermill": {
     "duration": 0.040024,
     "end_time": "2023-12-11T16:50:33.061389",
     "exception": false,
     "start_time": "2023-12-11T16:50:33.021365",
     "status": "completed"
    },
    "tags": []
   },
   "outputs": [
    {
     "data": {
      "text/plain": [
       "(125, 121)"
      ]
     },
     "execution_count": 31,
     "metadata": {},
     "output_type": "execute_result"
    }
   ],
   "source": [
    "df1.shape"
   ]
  },
  {
   "cell_type": "markdown",
   "id": "3eb96f43",
   "metadata": {
    "papermill": {
     "duration": 0.026318,
     "end_time": "2023-12-11T16:50:33.114444",
     "exception": false,
     "start_time": "2023-12-11T16:50:33.088126",
     "status": "completed"
    },
    "tags": []
   },
   "source": [
    "Now we can load the country codes dataset which will enable us to create the two map visualizations."
   ]
  },
  {
   "cell_type": "code",
   "execution_count": 32,
   "id": "693d070e",
   "metadata": {
    "execution": {
     "iopub.execute_input": "2023-12-11T16:50:33.170367Z",
     "iopub.status.busy": "2023-12-11T16:50:33.169310Z",
     "iopub.status.idle": "2023-12-11T16:50:33.190613Z",
     "shell.execute_reply": "2023-12-11T16:50:33.188870Z"
    },
    "papermill": {
     "duration": 0.053085,
     "end_time": "2023-12-11T16:50:33.193471",
     "exception": false,
     "start_time": "2023-12-11T16:50:33.140386",
     "status": "completed"
    },
    "tags": []
   },
   "outputs": [],
   "source": [
    "cc = pd.read_csv('/kaggle/input/iso-country-codes-global/wikipedia-iso-country-codes.csv')"
   ]
  },
  {
   "cell_type": "code",
   "execution_count": 33,
   "id": "c4b24468",
   "metadata": {
    "execution": {
     "iopub.execute_input": "2023-12-11T16:50:33.249797Z",
     "iopub.status.busy": "2023-12-11T16:50:33.248837Z",
     "iopub.status.idle": "2023-12-11T16:50:33.264057Z",
     "shell.execute_reply": "2023-12-11T16:50:33.262981Z"
    },
    "papermill": {
     "duration": 0.046024,
     "end_time": "2023-12-11T16:50:33.266419",
     "exception": false,
     "start_time": "2023-12-11T16:50:33.220395",
     "status": "completed"
    },
    "tags": []
   },
   "outputs": [
    {
     "data": {
      "text/html": [
       "<div>\n",
       "<style scoped>\n",
       "    .dataframe tbody tr th:only-of-type {\n",
       "        vertical-align: middle;\n",
       "    }\n",
       "\n",
       "    .dataframe tbody tr th {\n",
       "        vertical-align: top;\n",
       "    }\n",
       "\n",
       "    .dataframe thead th {\n",
       "        text-align: right;\n",
       "    }\n",
       "</style>\n",
       "<table border=\"1\" class=\"dataframe\">\n",
       "  <thead>\n",
       "    <tr style=\"text-align: right;\">\n",
       "      <th></th>\n",
       "      <th>English short name lower case</th>\n",
       "      <th>Alpha-2 code</th>\n",
       "      <th>Alpha-3 code</th>\n",
       "      <th>Numeric code</th>\n",
       "      <th>ISO 3166-2</th>\n",
       "    </tr>\n",
       "  </thead>\n",
       "  <tbody>\n",
       "    <tr>\n",
       "      <th>0</th>\n",
       "      <td>Zimbabwe</td>\n",
       "      <td>ZW</td>\n",
       "      <td>ZWE</td>\n",
       "      <td>716</td>\n",
       "      <td>ISO 3166-2:ZW</td>\n",
       "    </tr>\n",
       "    <tr>\n",
       "      <th>1</th>\n",
       "      <td>Zambia</td>\n",
       "      <td>ZM</td>\n",
       "      <td>ZMB</td>\n",
       "      <td>894</td>\n",
       "      <td>ISO 3166-2:ZM</td>\n",
       "    </tr>\n",
       "  </tbody>\n",
       "</table>\n",
       "</div>"
      ],
      "text/plain": [
       "  English short name lower case Alpha-2 code Alpha-3 code  Numeric code  \\\n",
       "0                      Zimbabwe           ZW          ZWE           716   \n",
       "1                        Zambia           ZM          ZMB           894   \n",
       "\n",
       "      ISO 3166-2  \n",
       "0  ISO 3166-2:ZW  \n",
       "1  ISO 3166-2:ZM  "
      ]
     },
     "execution_count": 33,
     "metadata": {},
     "output_type": "execute_result"
    }
   ],
   "source": [
    "cc.head(2)"
   ]
  },
  {
   "cell_type": "markdown",
   "id": "b9286532",
   "metadata": {
    "papermill": {
     "duration": 0.028275,
     "end_time": "2023-12-11T16:50:33.321871",
     "exception": false,
     "start_time": "2023-12-11T16:50:33.293596",
     "status": "completed"
    },
    "tags": []
   },
   "source": [
    "We concatenate our df1 dataframe with the country codes dataframe."
   ]
  },
  {
   "cell_type": "code",
   "execution_count": 34,
   "id": "e1938347",
   "metadata": {
    "execution": {
     "iopub.execute_input": "2023-12-11T16:50:33.377391Z",
     "iopub.status.busy": "2023-12-11T16:50:33.376597Z",
     "iopub.status.idle": "2023-12-11T16:50:33.392440Z",
     "shell.execute_reply": "2023-12-11T16:50:33.391012Z"
    },
    "papermill": {
     "duration": 0.047647,
     "end_time": "2023-12-11T16:50:33.395568",
     "exception": false,
     "start_time": "2023-12-11T16:50:33.347921",
     "status": "completed"
    },
    "tags": []
   },
   "outputs": [],
   "source": [
    "merged = pd.merge(df1, cc, how = 'left', left_on = ['Host_country'], right_on = ['English short name lower case'])"
   ]
  },
  {
   "cell_type": "markdown",
   "id": "020d05bd",
   "metadata": {
    "papermill": {
     "duration": 0.028335,
     "end_time": "2023-12-11T16:50:33.450908",
     "exception": false,
     "start_time": "2023-12-11T16:50:33.422573",
     "status": "completed"
    },
    "tags": []
   },
   "source": [
    "Now we need to check if each rows of our df1 dataframe were merged correctly. We can do it by checking if there is any NaN values in the 'English short name lower case' column."
   ]
  },
  {
   "cell_type": "code",
   "execution_count": 35,
   "id": "ff974514",
   "metadata": {
    "execution": {
     "iopub.execute_input": "2023-12-11T16:50:33.507977Z",
     "iopub.status.busy": "2023-12-11T16:50:33.507545Z",
     "iopub.status.idle": "2023-12-11T16:50:33.520830Z",
     "shell.execute_reply": "2023-12-11T16:50:33.519977Z"
    },
    "papermill": {
     "duration": 0.04553,
     "end_time": "2023-12-11T16:50:33.523478",
     "exception": false,
     "start_time": "2023-12-11T16:50:33.477948",
     "status": "completed"
    },
    "tags": []
   },
   "outputs": [
    {
     "data": {
      "text/html": [
       "<div>\n",
       "<style scoped>\n",
       "    .dataframe tbody tr th:only-of-type {\n",
       "        vertical-align: middle;\n",
       "    }\n",
       "\n",
       "    .dataframe tbody tr th {\n",
       "        vertical-align: top;\n",
       "    }\n",
       "\n",
       "    .dataframe thead th {\n",
       "        text-align: right;\n",
       "    }\n",
       "</style>\n",
       "<table border=\"1\" class=\"dataframe\">\n",
       "  <thead>\n",
       "    <tr style=\"text-align: right;\">\n",
       "      <th></th>\n",
       "      <th>Host_country</th>\n",
       "      <th>English short name lower case</th>\n",
       "    </tr>\n",
       "  </thead>\n",
       "  <tbody>\n",
       "    <tr>\n",
       "      <th>5</th>\n",
       "      <td>Congo-Kinshasa</td>\n",
       "      <td>NaN</td>\n",
       "    </tr>\n",
       "    <tr>\n",
       "      <th>10</th>\n",
       "      <td>Ivory Coast</td>\n",
       "      <td>NaN</td>\n",
       "    </tr>\n",
       "    <tr>\n",
       "      <th>17</th>\n",
       "      <td>São Tomé and Príncipe</td>\n",
       "      <td>NaN</td>\n",
       "    </tr>\n",
       "    <tr>\n",
       "      <th>60</th>\n",
       "      <td>East Timor</td>\n",
       "      <td>NaN</td>\n",
       "    </tr>\n",
       "    <tr>\n",
       "      <th>69</th>\n",
       "      <td>Palestine</td>\n",
       "      <td>NaN</td>\n",
       "    </tr>\n",
       "    <tr>\n",
       "      <th>82</th>\n",
       "      <td>Czechia</td>\n",
       "      <td>NaN</td>\n",
       "    </tr>\n",
       "    <tr>\n",
       "      <th>98</th>\n",
       "      <td>Holy See</td>\n",
       "      <td>NaN</td>\n",
       "    </tr>\n",
       "  </tbody>\n",
       "</table>\n",
       "</div>"
      ],
      "text/plain": [
       "             Host_country English short name lower case\n",
       "5          Congo-Kinshasa                           NaN\n",
       "10            Ivory Coast                           NaN\n",
       "17  São Tomé and Príncipe                           NaN\n",
       "60             East Timor                           NaN\n",
       "69              Palestine                           NaN\n",
       "82                Czechia                           NaN\n",
       "98               Holy See                           NaN"
      ]
     },
     "execution_count": 35,
     "metadata": {},
     "output_type": "execute_result"
    }
   ],
   "source": [
    "merged[merged['English short name lower case'].isna()][['Host_country', 'English short name lower case']]"
   ]
  },
  {
   "cell_type": "markdown",
   "id": "6eb04205",
   "metadata": {
    "papermill": {
     "duration": 0.026473,
     "end_time": "2023-12-11T16:50:33.577802",
     "exception": false,
     "start_time": "2023-12-11T16:50:33.551329",
     "status": "completed"
    },
    "tags": []
   },
   "source": [
    "There are 7 incorrectly merged. Some of these countries' name contains special characters (e.g.Côte d'Ivoire) so these will be corrected manually. Just to facilitate easier handling 'Alpha-2 code' will be updated."
   ]
  },
  {
   "cell_type": "code",
   "execution_count": 36,
   "id": "4b3ff3a2",
   "metadata": {
    "execution": {
     "iopub.execute_input": "2023-12-11T16:50:33.634999Z",
     "iopub.status.busy": "2023-12-11T16:50:33.634294Z",
     "iopub.status.idle": "2023-12-11T16:50:33.641058Z",
     "shell.execute_reply": "2023-12-11T16:50:33.640040Z"
    },
    "papermill": {
     "duration": 0.03789,
     "end_time": "2023-12-11T16:50:33.643671",
     "exception": false,
     "start_time": "2023-12-11T16:50:33.605781",
     "status": "completed"
    },
    "tags": []
   },
   "outputs": [],
   "source": [
    "merged.at[5,'Alpha-2 code']='CG'\n",
    "merged.at[10,'Alpha-2 code']=\"CI\"\n",
    "merged.at[17,'Alpha-2 code']='ST'\n",
    "merged.at[60,'Alpha-2 code']='TL'\n",
    "merged.at[69,'Alpha-2 code']='PS'\n",
    "merged.at[82,'Alpha-2 code']='CZ'\n",
    "merged.at[98,'Alpha-2 code']='VA'"
   ]
  },
  {
   "cell_type": "markdown",
   "id": "b4dedc3b",
   "metadata": {
    "papermill": {
     "duration": 0.02782,
     "end_time": "2023-12-11T16:50:33.699604",
     "exception": false,
     "start_time": "2023-12-11T16:50:33.671784",
     "status": "completed"
    },
    "tags": []
   },
   "source": [
    "Now we can merge the already merged dataframe with country codes again but now on the 'Alpha-2 code'."
   ]
  },
  {
   "cell_type": "code",
   "execution_count": 37,
   "id": "8cc0cea7",
   "metadata": {
    "execution": {
     "iopub.execute_input": "2023-12-11T16:50:33.755344Z",
     "iopub.status.busy": "2023-12-11T16:50:33.754720Z",
     "iopub.status.idle": "2023-12-11T16:50:33.764177Z",
     "shell.execute_reply": "2023-12-11T16:50:33.763057Z"
    },
    "papermill": {
     "duration": 0.040759,
     "end_time": "2023-12-11T16:50:33.767003",
     "exception": false,
     "start_time": "2023-12-11T16:50:33.726244",
     "status": "completed"
    },
    "tags": []
   },
   "outputs": [],
   "source": [
    "merged2 = pd.merge(merged, cc, how = 'left', left_on = ['Alpha-2 code'], right_on = ['Alpha-2 code'])"
   ]
  },
  {
   "cell_type": "markdown",
   "id": "cc51ee76",
   "metadata": {
    "papermill": {
     "duration": 0.027337,
     "end_time": "2023-12-11T16:50:33.821418",
     "exception": false,
     "start_time": "2023-12-11T16:50:33.794081",
     "status": "completed"
    },
    "tags": []
   },
   "source": [
    "Finally we drop some irrelevant columns."
   ]
  },
  {
   "cell_type": "code",
   "execution_count": 38,
   "id": "923c7648",
   "metadata": {
    "execution": {
     "iopub.execute_input": "2023-12-11T16:50:33.876579Z",
     "iopub.status.busy": "2023-12-11T16:50:33.876196Z",
     "iopub.status.idle": "2023-12-11T16:50:33.883224Z",
     "shell.execute_reply": "2023-12-11T16:50:33.881973Z"
    },
    "papermill": {
     "duration": 0.037482,
     "end_time": "2023-12-11T16:50:33.886026",
     "exception": false,
     "start_time": "2023-12-11T16:50:33.848544",
     "status": "completed"
    },
    "tags": []
   },
   "outputs": [],
   "source": [
    "merged3 = merged2.drop(columns=['ca','English short name lower case_x', 'Alpha-3 code_x',\n",
    "                                'Numeric code_x', 'ISO 3166-2_x'])"
   ]
  },
  {
   "cell_type": "markdown",
   "id": "e34caf33",
   "metadata": {
    "papermill": {
     "duration": 0.026192,
     "end_time": "2023-12-11T16:50:33.938975",
     "exception": false,
     "start_time": "2023-12-11T16:50:33.912783",
     "status": "completed"
    },
    "tags": []
   },
   "source": [
    "The final step is to create the two visualizations about in which countries the portuguese diplomatic missions are and which country has the most of these missions."
   ]
  },
  {
   "cell_type": "code",
   "execution_count": 39,
   "id": "7b8dbf06",
   "metadata": {
    "execution": {
     "iopub.execute_input": "2023-12-11T16:50:33.995431Z",
     "iopub.status.busy": "2023-12-11T16:50:33.994138Z",
     "iopub.status.idle": "2023-12-11T16:50:36.107838Z",
     "shell.execute_reply": "2023-12-11T16:50:36.106852Z"
    },
    "papermill": {
     "duration": 2.144046,
     "end_time": "2023-12-11T16:50:36.110467",
     "exception": false,
     "start_time": "2023-12-11T16:50:33.966421",
     "status": "completed"
    },
    "tags": []
   },
   "outputs": [
    {
     "data": {
      "text/html": [
       "        <script type=\"text/javascript\">\n",
       "        window.PlotlyConfig = {MathJaxConfig: 'local'};\n",
       "        if (window.MathJax && window.MathJax.Hub && window.MathJax.Hub.Config) {window.MathJax.Hub.Config({SVG: {font: \"STIX-Web\"}});}\n",
       "        if (typeof require !== 'undefined') {\n",
       "        require.undef(\"plotly\");\n",
       "        requirejs.config({\n",
       "            paths: {\n",
       "                'plotly': ['https://cdn.plot.ly/plotly-2.25.2.min']\n",
       "            }\n",
       "        });\n",
       "        require(['plotly'], function(Plotly) {\n",
       "            window._Plotly = Plotly;\n",
       "        });\n",
       "        }\n",
       "        </script>\n",
       "        "
      ]
     },
     "metadata": {},
     "output_type": "display_data"
    },
    {
     "data": {
      "text/html": [
       "<div>                            <div id=\"7fdf8e54-ade5-4ea6-9675-8766655cf65a\" class=\"plotly-graph-div\" style=\"height:525px; width:100%;\"></div>            <script type=\"text/javascript\">                require([\"plotly\"], function(Plotly) {                    window.PLOTLYENV=window.PLOTLYENV || {};                                    if (document.getElementById(\"7fdf8e54-ade5-4ea6-9675-8766655cf65a\")) {                    Plotly.newPlot(                        \"7fdf8e54-ade5-4ea6-9675-8766655cf65a\",                        [{\"colorscale\":[[0.0,\"rgb(27,158,119)\"],[1.0,\"rgb(27,158,119)\"]],\"geo\":\"geo\",\"hovertemplate\":\"\\u003cb\\u003e%{hovertext}\\u003c\\u002fb\\u003e\\u003cbr\\u003e\\u003cbr\\u003eMission=Embassy\\u003cbr\\u003eAlpha-3 code_y=%{location}\\u003cextra\\u003e\\u003c\\u002fextra\\u003e\",\"hovertext\":[\"Algeria\",\"Angola\",\"Cape Verde\",\"Congo-Kinshasa\",\"Egypt\",\"Equatorial Guinea\",\"Ethiopia\",\"Guinea-Bissau\",\"Ivory Coast\",\"Kenya\",\"Morocco\",\"Mozambique\",\"Namibia\",\"Nigeria\",\"São Tomé and Príncipe\",\"Senegal\",\"South Africa\",\"Tunisia\",\"Zimbabwe\",\"Argentina\",\"Brazil\",\"Canada\",\"Chile\",\"Colombia\",\"Cuba\",\"Mexico\",\"Panama\",\"Peru\",\"United States\",\"Uruguay\",\"Venezuela\",\"China\",\"East Timor\",\"India\",\"Indonesia\",\"Iran\",\"Israel\",\"Japan\",\"Kazakhstan\",\"Pakistan\",\"Qatar\",\"Saudi Arabia\",\"Singapore\",\"South Korea\",\"Thailand\",\"Turkey\",\"United Arab Emirates\",\"Austria\",\"Belgium\",\"Bulgaria\",\"Croatia\",\"Cyprus\",\"Czechia\",\"Denmark\",\"Finland\",\"France\",\"Germany\",\"Greece\",\"Holy See\",\"Hungary\",\"Ireland\",\"Italy\",\"Luxembourg\",\"Netherlands\",\"Norway\",\"Poland\",\"Romania\",\"Russia\",\"Serbia\",\"Slovakia\",\"Spain\",\"Sweden\",\"Switzerland\",\"Ukraine\",\"United Kingdom\",\"Australia\"],\"locations\":[\"DZA\",\"AGO\",\"CPV\",\"COG\",\"EGY\",\"GNQ\",\"ETH\",\"GNB\",\"CIV\",\"KEN\",\"MAR\",\"MOZ\",\"NAM\",\"NGA\",\"STP\",\"SEN\",\"ZAF\",\"TUN\",\"ZWE\",\"ARG\",\"BRA\",\"CAN\",\"CHL\",\"COL\",\"CUB\",\"MEX\",\"PAN\",\"PER\",\"USA\",\"URY\",\"VEN\",\"CHN\",\"TLS\",\"IND\",\"IDN\",\"IRN\",\"ISR\",\"JPN\",\"KAZ\",\"PAK\",\"QAT\",\"SAU\",\"SGP\",\"KOR\",\"THA\",\"TUR\",\"ARE\",\"AUT\",\"BEL\",\"BGR\",\"HRV\",\"CYP\",\"CZE\",\"DNK\",\"FIN\",\"FRA\",\"DEU\",\"GRC\",\"VAT\",\"HUN\",\"IRL\",\"ITA\",\"LUX\",\"NLD\",\"NOR\",\"POL\",\"ROU\",\"RUS\",\"SRB\",\"SVK\",\"ESP\",\"SWE\",\"CHE\",\"UKR\",\"GBR\",\"AUS\"],\"name\":\"Embassy\",\"showlegend\":true,\"showscale\":false,\"z\":[1,1,1,1,1,1,1,1,1,1,1,1,1,1,1,1,1,1,1,1,1,1,1,1,1,1,1,1,1,1,1,1,1,1,1,1,1,1,1,1,1,1,1,1,1,1,1,1,1,1,1,1,1,1,1,1,1,1,1,1,1,1,1,1,1,1,1,1,1,1,1,1,1,1,1,1],\"type\":\"choropleth\"},{\"colorscale\":[[0.0,\"rgb(217,95,2)\"],[1.0,\"rgb(217,95,2)\"]],\"geo\":\"geo\",\"hovertemplate\":\"\\u003cb\\u003e%{hovertext}\\u003c\\u002fb\\u003e\\u003cbr\\u003e\\u003cbr\\u003eMission=Consulate-General\\u003cbr\\u003eAlpha-3 code_y=%{location}\\u003cextra\\u003e\\u003c\\u002fextra\\u003e\",\"hovertext\":[\"Angola\",\"Mozambique\",\"South Africa\",\"South Africa\",\"Brazil\",\"Brazil\",\"Brazil\",\"Canada\",\"Canada\",\"Canada\",\"United States\",\"United States\",\"United States\",\"United States\",\"Venezuela\",\"China\",\"China\",\"China\",\"India\",\"France\",\"France\",\"France\",\"France\",\"Germany\",\"Germany\",\"Germany\",\"Spain\",\"Spain\",\"Spain\",\"Switzerland\",\"Switzerland\",\"United Kingdom\",\"Australia\"],\"locations\":[\"AGO\",\"MOZ\",\"ZAF\",\"ZAF\",\"BRA\",\"BRA\",\"BRA\",\"CAN\",\"CAN\",\"CAN\",\"USA\",\"USA\",\"USA\",\"USA\",\"VEN\",\"CHN\",\"CHN\",\"CHN\",\"IND\",\"FRA\",\"FRA\",\"FRA\",\"FRA\",\"DEU\",\"DEU\",\"DEU\",\"ESP\",\"ESP\",\"ESP\",\"CHE\",\"CHE\",\"GBR\",\"AUS\"],\"name\":\"Consulate-General\",\"showlegend\":true,\"showscale\":false,\"z\":[1,1,1,1,1,1,1,1,1,1,1,1,1,1,1,1,1,1,1,1,1,1,1,1,1,1,1,1,1,1,1,1,1],\"type\":\"choropleth\"},{\"colorscale\":[[0.0,\"rgb(117,112,179)\"],[1.0,\"rgb(117,112,179)\"]],\"geo\":\"geo\",\"hovertemplate\":\"\\u003cb\\u003e%{hovertext}\\u003c\\u002fb\\u003e\\u003cbr\\u003e\\u003cbr\\u003eMission=Consular office\\u003cbr\\u003eAlpha-3 code_y=%{location}\\u003cextra\\u003e\\u003c\\u002fextra\\u003e\",\"hovertext\":[\"Cape Verde\",\"Brazil\",\"France\",\"Germany\",\"Switzerland\",\"Switzerland\"],\"locations\":[\"CPV\",\"BRA\",\"FRA\",\"DEU\",\"CHE\",\"CHE\"],\"name\":\"Consular office\",\"showlegend\":true,\"showscale\":false,\"z\":[1,1,1,1,1,1],\"type\":\"choropleth\"},{\"colorscale\":[[0.0,\"rgb(231,41,138)\"],[1.0,\"rgb(231,41,138)\"]],\"geo\":\"geo\",\"hovertemplate\":\"\\u003cb\\u003e%{hovertext}\\u003c\\u002fb\\u003e\\u003cbr\\u003e\\u003cbr\\u003eMission=Consulate\\u003cbr\\u003eAlpha-3 code_y=%{location}\\u003cextra\\u003e\\u003c\\u002fextra\\u003e\",\"hovertext\":[\"Brazil\",\"United States\",\"France\"],\"locations\":[\"BRA\",\"USA\",\"FRA\"],\"name\":\"Consulate\",\"showlegend\":true,\"showscale\":false,\"z\":[1,1,1],\"type\":\"choropleth\"},{\"colorscale\":[[0.0,\"rgb(102,166,30)\"],[1.0,\"rgb(102,166,30)\"]],\"geo\":\"geo\",\"hovertemplate\":\"\\u003cb\\u003e%{hovertext}\\u003c\\u002fb\\u003e\\u003cbr\\u003e\\u003cbr\\u003eMission=Vice-consulate\\u003cbr\\u003eAlpha-3 code_y=%{location}\\u003cextra\\u003e\\u003c\\u002fextra\\u003e\",\"hovertext\":[\"Brazil\",\"Brazil\",\"Brazil\",\"Brazil\",\"Brazil\",\"United States\"],\"locations\":[\"BRA\",\"BRA\",\"BRA\",\"BRA\",\"BRA\",\"USA\"],\"name\":\"Vice-consulate\",\"showlegend\":true,\"showscale\":false,\"z\":[1,1,1,1,1,1],\"type\":\"choropleth\"},{\"colorscale\":[[0.0,\"rgb(230,171,2)\"],[1.0,\"rgb(230,171,2)\"]],\"geo\":\"geo\",\"hovertemplate\":\"\\u003cb\\u003e%{hovertext}\\u003c\\u002fb\\u003e\\u003cbr\\u003e\\u003cbr\\u003eMission=Representative Office\\u003cbr\\u003eAlpha-3 code_y=%{location}\\u003cextra\\u003e\\u003c\\u002fextra\\u003e\",\"hovertext\":[\"Palestine\"],\"locations\":[\"PSE\"],\"name\":\"Representative Office\",\"showlegend\":true,\"showscale\":false,\"z\":[1],\"type\":\"choropleth\"}],                        {\"template\":{\"data\":{\"histogram2dcontour\":[{\"type\":\"histogram2dcontour\",\"colorbar\":{\"outlinewidth\":0,\"ticks\":\"\"},\"colorscale\":[[0.0,\"#0d0887\"],[0.1111111111111111,\"#46039f\"],[0.2222222222222222,\"#7201a8\"],[0.3333333333333333,\"#9c179e\"],[0.4444444444444444,\"#bd3786\"],[0.5555555555555556,\"#d8576b\"],[0.6666666666666666,\"#ed7953\"],[0.7777777777777778,\"#fb9f3a\"],[0.8888888888888888,\"#fdca26\"],[1.0,\"#f0f921\"]]}],\"choropleth\":[{\"type\":\"choropleth\",\"colorbar\":{\"outlinewidth\":0,\"ticks\":\"\"}}],\"histogram2d\":[{\"type\":\"histogram2d\",\"colorbar\":{\"outlinewidth\":0,\"ticks\":\"\"},\"colorscale\":[[0.0,\"#0d0887\"],[0.1111111111111111,\"#46039f\"],[0.2222222222222222,\"#7201a8\"],[0.3333333333333333,\"#9c179e\"],[0.4444444444444444,\"#bd3786\"],[0.5555555555555556,\"#d8576b\"],[0.6666666666666666,\"#ed7953\"],[0.7777777777777778,\"#fb9f3a\"],[0.8888888888888888,\"#fdca26\"],[1.0,\"#f0f921\"]]}],\"heatmap\":[{\"type\":\"heatmap\",\"colorbar\":{\"outlinewidth\":0,\"ticks\":\"\"},\"colorscale\":[[0.0,\"#0d0887\"],[0.1111111111111111,\"#46039f\"],[0.2222222222222222,\"#7201a8\"],[0.3333333333333333,\"#9c179e\"],[0.4444444444444444,\"#bd3786\"],[0.5555555555555556,\"#d8576b\"],[0.6666666666666666,\"#ed7953\"],[0.7777777777777778,\"#fb9f3a\"],[0.8888888888888888,\"#fdca26\"],[1.0,\"#f0f921\"]]}],\"heatmapgl\":[{\"type\":\"heatmapgl\",\"colorbar\":{\"outlinewidth\":0,\"ticks\":\"\"},\"colorscale\":[[0.0,\"#0d0887\"],[0.1111111111111111,\"#46039f\"],[0.2222222222222222,\"#7201a8\"],[0.3333333333333333,\"#9c179e\"],[0.4444444444444444,\"#bd3786\"],[0.5555555555555556,\"#d8576b\"],[0.6666666666666666,\"#ed7953\"],[0.7777777777777778,\"#fb9f3a\"],[0.8888888888888888,\"#fdca26\"],[1.0,\"#f0f921\"]]}],\"contourcarpet\":[{\"type\":\"contourcarpet\",\"colorbar\":{\"outlinewidth\":0,\"ticks\":\"\"}}],\"contour\":[{\"type\":\"contour\",\"colorbar\":{\"outlinewidth\":0,\"ticks\":\"\"},\"colorscale\":[[0.0,\"#0d0887\"],[0.1111111111111111,\"#46039f\"],[0.2222222222222222,\"#7201a8\"],[0.3333333333333333,\"#9c179e\"],[0.4444444444444444,\"#bd3786\"],[0.5555555555555556,\"#d8576b\"],[0.6666666666666666,\"#ed7953\"],[0.7777777777777778,\"#fb9f3a\"],[0.8888888888888888,\"#fdca26\"],[1.0,\"#f0f921\"]]}],\"surface\":[{\"type\":\"surface\",\"colorbar\":{\"outlinewidth\":0,\"ticks\":\"\"},\"colorscale\":[[0.0,\"#0d0887\"],[0.1111111111111111,\"#46039f\"],[0.2222222222222222,\"#7201a8\"],[0.3333333333333333,\"#9c179e\"],[0.4444444444444444,\"#bd3786\"],[0.5555555555555556,\"#d8576b\"],[0.6666666666666666,\"#ed7953\"],[0.7777777777777778,\"#fb9f3a\"],[0.8888888888888888,\"#fdca26\"],[1.0,\"#f0f921\"]]}],\"mesh3d\":[{\"type\":\"mesh3d\",\"colorbar\":{\"outlinewidth\":0,\"ticks\":\"\"}}],\"scatter\":[{\"fillpattern\":{\"fillmode\":\"overlay\",\"size\":10,\"solidity\":0.2},\"type\":\"scatter\"}],\"parcoords\":[{\"type\":\"parcoords\",\"line\":{\"colorbar\":{\"outlinewidth\":0,\"ticks\":\"\"}}}],\"scatterpolargl\":[{\"type\":\"scatterpolargl\",\"marker\":{\"colorbar\":{\"outlinewidth\":0,\"ticks\":\"\"}}}],\"bar\":[{\"error_x\":{\"color\":\"#2a3f5f\"},\"error_y\":{\"color\":\"#2a3f5f\"},\"marker\":{\"line\":{\"color\":\"#E5ECF6\",\"width\":0.5},\"pattern\":{\"fillmode\":\"overlay\",\"size\":10,\"solidity\":0.2}},\"type\":\"bar\"}],\"scattergeo\":[{\"type\":\"scattergeo\",\"marker\":{\"colorbar\":{\"outlinewidth\":0,\"ticks\":\"\"}}}],\"scatterpolar\":[{\"type\":\"scatterpolar\",\"marker\":{\"colorbar\":{\"outlinewidth\":0,\"ticks\":\"\"}}}],\"histogram\":[{\"marker\":{\"pattern\":{\"fillmode\":\"overlay\",\"size\":10,\"solidity\":0.2}},\"type\":\"histogram\"}],\"scattergl\":[{\"type\":\"scattergl\",\"marker\":{\"colorbar\":{\"outlinewidth\":0,\"ticks\":\"\"}}}],\"scatter3d\":[{\"type\":\"scatter3d\",\"line\":{\"colorbar\":{\"outlinewidth\":0,\"ticks\":\"\"}},\"marker\":{\"colorbar\":{\"outlinewidth\":0,\"ticks\":\"\"}}}],\"scattermapbox\":[{\"type\":\"scattermapbox\",\"marker\":{\"colorbar\":{\"outlinewidth\":0,\"ticks\":\"\"}}}],\"scatterternary\":[{\"type\":\"scatterternary\",\"marker\":{\"colorbar\":{\"outlinewidth\":0,\"ticks\":\"\"}}}],\"scattercarpet\":[{\"type\":\"scattercarpet\",\"marker\":{\"colorbar\":{\"outlinewidth\":0,\"ticks\":\"\"}}}],\"carpet\":[{\"aaxis\":{\"endlinecolor\":\"#2a3f5f\",\"gridcolor\":\"white\",\"linecolor\":\"white\",\"minorgridcolor\":\"white\",\"startlinecolor\":\"#2a3f5f\"},\"baxis\":{\"endlinecolor\":\"#2a3f5f\",\"gridcolor\":\"white\",\"linecolor\":\"white\",\"minorgridcolor\":\"white\",\"startlinecolor\":\"#2a3f5f\"},\"type\":\"carpet\"}],\"table\":[{\"cells\":{\"fill\":{\"color\":\"#EBF0F8\"},\"line\":{\"color\":\"white\"}},\"header\":{\"fill\":{\"color\":\"#C8D4E3\"},\"line\":{\"color\":\"white\"}},\"type\":\"table\"}],\"barpolar\":[{\"marker\":{\"line\":{\"color\":\"#E5ECF6\",\"width\":0.5},\"pattern\":{\"fillmode\":\"overlay\",\"size\":10,\"solidity\":0.2}},\"type\":\"barpolar\"}],\"pie\":[{\"automargin\":true,\"type\":\"pie\"}]},\"layout\":{\"autotypenumbers\":\"strict\",\"colorway\":[\"#636efa\",\"#EF553B\",\"#00cc96\",\"#ab63fa\",\"#FFA15A\",\"#19d3f3\",\"#FF6692\",\"#B6E880\",\"#FF97FF\",\"#FECB52\"],\"font\":{\"color\":\"#2a3f5f\"},\"hovermode\":\"closest\",\"hoverlabel\":{\"align\":\"left\"},\"paper_bgcolor\":\"white\",\"plot_bgcolor\":\"#E5ECF6\",\"polar\":{\"bgcolor\":\"#E5ECF6\",\"angularaxis\":{\"gridcolor\":\"white\",\"linecolor\":\"white\",\"ticks\":\"\"},\"radialaxis\":{\"gridcolor\":\"white\",\"linecolor\":\"white\",\"ticks\":\"\"}},\"ternary\":{\"bgcolor\":\"#E5ECF6\",\"aaxis\":{\"gridcolor\":\"white\",\"linecolor\":\"white\",\"ticks\":\"\"},\"baxis\":{\"gridcolor\":\"white\",\"linecolor\":\"white\",\"ticks\":\"\"},\"caxis\":{\"gridcolor\":\"white\",\"linecolor\":\"white\",\"ticks\":\"\"}},\"coloraxis\":{\"colorbar\":{\"outlinewidth\":0,\"ticks\":\"\"}},\"colorscale\":{\"sequential\":[[0.0,\"#0d0887\"],[0.1111111111111111,\"#46039f\"],[0.2222222222222222,\"#7201a8\"],[0.3333333333333333,\"#9c179e\"],[0.4444444444444444,\"#bd3786\"],[0.5555555555555556,\"#d8576b\"],[0.6666666666666666,\"#ed7953\"],[0.7777777777777778,\"#fb9f3a\"],[0.8888888888888888,\"#fdca26\"],[1.0,\"#f0f921\"]],\"sequentialminus\":[[0.0,\"#0d0887\"],[0.1111111111111111,\"#46039f\"],[0.2222222222222222,\"#7201a8\"],[0.3333333333333333,\"#9c179e\"],[0.4444444444444444,\"#bd3786\"],[0.5555555555555556,\"#d8576b\"],[0.6666666666666666,\"#ed7953\"],[0.7777777777777778,\"#fb9f3a\"],[0.8888888888888888,\"#fdca26\"],[1.0,\"#f0f921\"]],\"diverging\":[[0,\"#8e0152\"],[0.1,\"#c51b7d\"],[0.2,\"#de77ae\"],[0.3,\"#f1b6da\"],[0.4,\"#fde0ef\"],[0.5,\"#f7f7f7\"],[0.6,\"#e6f5d0\"],[0.7,\"#b8e186\"],[0.8,\"#7fbc41\"],[0.9,\"#4d9221\"],[1,\"#276419\"]]},\"xaxis\":{\"gridcolor\":\"white\",\"linecolor\":\"white\",\"ticks\":\"\",\"title\":{\"standoff\":15},\"zerolinecolor\":\"white\",\"automargin\":true,\"zerolinewidth\":2},\"yaxis\":{\"gridcolor\":\"white\",\"linecolor\":\"white\",\"ticks\":\"\",\"title\":{\"standoff\":15},\"zerolinecolor\":\"white\",\"automargin\":true,\"zerolinewidth\":2},\"scene\":{\"xaxis\":{\"backgroundcolor\":\"#E5ECF6\",\"gridcolor\":\"white\",\"linecolor\":\"white\",\"showbackground\":true,\"ticks\":\"\",\"zerolinecolor\":\"white\",\"gridwidth\":2},\"yaxis\":{\"backgroundcolor\":\"#E5ECF6\",\"gridcolor\":\"white\",\"linecolor\":\"white\",\"showbackground\":true,\"ticks\":\"\",\"zerolinecolor\":\"white\",\"gridwidth\":2},\"zaxis\":{\"backgroundcolor\":\"#E5ECF6\",\"gridcolor\":\"white\",\"linecolor\":\"white\",\"showbackground\":true,\"ticks\":\"\",\"zerolinecolor\":\"white\",\"gridwidth\":2}},\"shapedefaults\":{\"line\":{\"color\":\"#2a3f5f\"}},\"annotationdefaults\":{\"arrowcolor\":\"#2a3f5f\",\"arrowhead\":0,\"arrowwidth\":1},\"geo\":{\"bgcolor\":\"white\",\"landcolor\":\"#E5ECF6\",\"subunitcolor\":\"white\",\"showland\":true,\"showlakes\":true,\"lakecolor\":\"white\"},\"title\":{\"x\":0.05},\"mapbox\":{\"style\":\"light\"}}},\"geo\":{\"domain\":{\"x\":[0.0,1.0],\"y\":[0.0,1.0]},\"projection\":{\"type\":\"equirectangular\"},\"center\":{},\"lataxis\":{\"range\":[-59,90]}},\"legend\":{\"title\":{},\"tracegroupgap\":0,\"yanchor\":\"top\",\"y\":0.99,\"xanchor\":\"right\",\"x\":0},\"margin\":{\"t\":10,\"l\":0,\"r\":0,\"b\":0},\"title\":{\"font\":{\"size\":16,\"color\":\"#363945\"},\"text\":\"Portugues Diplomatic Missions by type\",\"y\":0.99,\"x\":0.5,\"xanchor\":\"center\",\"yanchor\":\"top\"}},                        {\"responsive\": true}                    ).then(function(){\n",
       "                            \n",
       "var gd = document.getElementById('7fdf8e54-ade5-4ea6-9675-8766655cf65a');\n",
       "var x = new MutationObserver(function (mutations, observer) {{\n",
       "        var display = window.getComputedStyle(gd).display;\n",
       "        if (!display || display === 'none') {{\n",
       "            console.log([gd, 'removed!']);\n",
       "            Plotly.purge(gd);\n",
       "            observer.disconnect();\n",
       "        }}\n",
       "}});\n",
       "\n",
       "// Listen for the removal of the full notebook cells\n",
       "var notebookContainer = gd.closest('#notebook-container');\n",
       "if (notebookContainer) {{\n",
       "    x.observe(notebookContainer, {childList: true});\n",
       "}}\n",
       "\n",
       "// Listen for the clearing of the current output cell\n",
       "var outputEl = gd.closest('.output');\n",
       "if (outputEl) {{\n",
       "    x.observe(outputEl, {childList: true});\n",
       "}}\n",
       "\n",
       "                        })                };                });            </script>        </div>"
      ]
     },
     "metadata": {},
     "output_type": "display_data"
    }
   ],
   "source": [
    "fig = px.choropleth(merged3, locations='Alpha-3 code_y',\n",
    "                    color='Mission', \n",
    "                    hover_name='Host_country', \n",
    "                    color_discrete_sequence=px.colors.qualitative.Dark2,\n",
    "                    projection='equirectangular') \n",
    "\n",
    "fig.update_geos(lataxis_range=[-59, 90])\n",
    "\n",
    "fig.update_layout(\n",
    "    margin=dict(l=0, r=0, t=10, b=0),\n",
    "    title_font=dict(size=16, color='#363945'),\n",
    "    title={\n",
    "        'text':'Portugues Diplomatic Missions by type',\n",
    "        'y':0.99,\n",
    "        'x':0.5,\n",
    "        'xanchor': 'center',\n",
    "        'yanchor': 'top'},\n",
    "    legend=dict(\n",
    "    title = None,\n",
    "    yanchor='top',\n",
    "    y=0.99,\n",
    "    xanchor='right',\n",
    "    x=0\n",
    "))\n",
    "\n",
    "fig.show()"
   ]
  },
  {
   "cell_type": "code",
   "execution_count": 40,
   "id": "e864f968",
   "metadata": {
    "execution": {
     "iopub.execute_input": "2023-12-11T16:50:36.170226Z",
     "iopub.status.busy": "2023-12-11T16:50:36.169751Z",
     "iopub.status.idle": "2023-12-11T16:50:36.291861Z",
     "shell.execute_reply": "2023-12-11T16:50:36.289891Z"
    },
    "papermill": {
     "duration": 0.157203,
     "end_time": "2023-12-11T16:50:36.295435",
     "exception": false,
     "start_time": "2023-12-11T16:50:36.138232",
     "status": "completed"
    },
    "tags": []
   },
   "outputs": [
    {
     "data": {
      "text/html": [
       "<div>                            <div id=\"2b642f91-1997-455a-a62a-fbfff2dcec87\" class=\"plotly-graph-div\" style=\"height:525px; width:100%;\"></div>            <script type=\"text/javascript\">                require([\"plotly\"], function(Plotly) {                    window.PLOTLYENV=window.PLOTLYENV || {};                                    if (document.getElementById(\"2b642f91-1997-455a-a62a-fbfff2dcec87\")) {                    Plotly.newPlot(                        \"2b642f91-1997-455a-a62a-fbfff2dcec87\",                        [{\"coloraxis\":\"coloraxis\",\"geo\":\"geo\",\"hovertemplate\":\"\\u003cb\\u003e%{hovertext}\\u003c\\u002fb\\u003e\\u003cbr\\u003e\\u003cbr\\u003eAlpha-3 code_y=%{location}\\u003cbr\\u003eMission=%{z}\\u003cextra\\u003e\\u003c\\u002fextra\\u003e\",\"hovertext\":[\"Algeria\",\"Angola\",\"Argentina\",\"Australia\",\"Austria\",\"Belgium\",\"Brazil\",\"Bulgaria\",\"Canada\",\"Cape Verde\",\"Chile\",\"China\",\"Colombia\",\"Congo-Kinshasa\",\"Croatia\",\"Cuba\",\"Cyprus\",\"Czechia\",\"Denmark\",\"East Timor\",\"Egypt\",\"Equatorial Guinea\",\"Ethiopia\",\"Finland\",\"France\",\"Germany\",\"Greece\",\"Guinea-Bissau\",\"Holy See\",\"Hungary\",\"India\",\"Indonesia\",\"Iran\",\"Ireland\",\"Israel\",\"Italy\",\"Ivory Coast\",\"Japan\",\"Kazakhstan\",\"Kenya\",\"Luxembourg\",\"Mexico\",\"Morocco\",\"Mozambique\",\"Namibia\",\"Netherlands\",\"Nigeria\",\"Norway\",\"Pakistan\",\"Palestine\",\"Panama\",\"Peru\",\"Poland\",\"Qatar\",\"Romania\",\"Russia\",\"Saudi Arabia\",\"Senegal\",\"Serbia\",\"Singapore\",\"Slovakia\",\"South Africa\",\"South Korea\",\"Spain\",\"Sweden\",\"Switzerland\",\"São Tomé and Príncipe\",\"Thailand\",\"Tunisia\",\"Turkey\",\"Ukraine\",\"United Arab Emirates\",\"United Kingdom\",\"United States\",\"Uruguay\",\"Venezuela\",\"Zimbabwe\"],\"locations\":[\"DZA\",\"AGO\",\"ARG\",\"AUS\",\"AUT\",\"BEL\",\"BRA\",\"BGR\",\"CAN\",\"CPV\",\"CHL\",\"CHN\",\"COL\",\"COG\",\"HRV\",\"CUB\",\"CYP\",\"CZE\",\"DNK\",\"TLS\",\"EGY\",\"GNQ\",\"ETH\",\"FIN\",\"FRA\",\"DEU\",\"GRC\",\"GNB\",\"VAT\",\"HUN\",\"IND\",\"IDN\",\"IRN\",\"IRL\",\"ISR\",\"ITA\",\"CIV\",\"JPN\",\"KAZ\",\"KEN\",\"LUX\",\"MEX\",\"MAR\",\"MOZ\",\"NAM\",\"NLD\",\"NGA\",\"NOR\",\"PAK\",\"PSE\",\"PAN\",\"PER\",\"POL\",\"QAT\",\"ROU\",\"RUS\",\"SAU\",\"SEN\",\"SRB\",\"SGP\",\"SVK\",\"ZAF\",\"KOR\",\"ESP\",\"SWE\",\"CHE\",\"STP\",\"THA\",\"TUN\",\"TUR\",\"UKR\",\"ARE\",\"GBR\",\"USA\",\"URY\",\"VEN\",\"ZWE\"],\"name\":\"\",\"z\":[1,2,1,2,1,1,11,1,4,2,1,4,1,1,1,1,1,1,1,1,1,1,1,1,7,5,1,1,1,1,2,1,1,1,1,1,1,1,1,1,1,1,1,2,1,1,1,1,1,1,1,1,1,1,1,1,1,1,1,1,1,3,1,4,1,5,1,1,1,1,1,1,2,7,1,2,1],\"type\":\"choropleth\"}],                        {\"template\":{\"data\":{\"histogram2dcontour\":[{\"type\":\"histogram2dcontour\",\"colorbar\":{\"outlinewidth\":0,\"ticks\":\"\"},\"colorscale\":[[0.0,\"#0d0887\"],[0.1111111111111111,\"#46039f\"],[0.2222222222222222,\"#7201a8\"],[0.3333333333333333,\"#9c179e\"],[0.4444444444444444,\"#bd3786\"],[0.5555555555555556,\"#d8576b\"],[0.6666666666666666,\"#ed7953\"],[0.7777777777777778,\"#fb9f3a\"],[0.8888888888888888,\"#fdca26\"],[1.0,\"#f0f921\"]]}],\"choropleth\":[{\"type\":\"choropleth\",\"colorbar\":{\"outlinewidth\":0,\"ticks\":\"\"}}],\"histogram2d\":[{\"type\":\"histogram2d\",\"colorbar\":{\"outlinewidth\":0,\"ticks\":\"\"},\"colorscale\":[[0.0,\"#0d0887\"],[0.1111111111111111,\"#46039f\"],[0.2222222222222222,\"#7201a8\"],[0.3333333333333333,\"#9c179e\"],[0.4444444444444444,\"#bd3786\"],[0.5555555555555556,\"#d8576b\"],[0.6666666666666666,\"#ed7953\"],[0.7777777777777778,\"#fb9f3a\"],[0.8888888888888888,\"#fdca26\"],[1.0,\"#f0f921\"]]}],\"heatmap\":[{\"type\":\"heatmap\",\"colorbar\":{\"outlinewidth\":0,\"ticks\":\"\"},\"colorscale\":[[0.0,\"#0d0887\"],[0.1111111111111111,\"#46039f\"],[0.2222222222222222,\"#7201a8\"],[0.3333333333333333,\"#9c179e\"],[0.4444444444444444,\"#bd3786\"],[0.5555555555555556,\"#d8576b\"],[0.6666666666666666,\"#ed7953\"],[0.7777777777777778,\"#fb9f3a\"],[0.8888888888888888,\"#fdca26\"],[1.0,\"#f0f921\"]]}],\"heatmapgl\":[{\"type\":\"heatmapgl\",\"colorbar\":{\"outlinewidth\":0,\"ticks\":\"\"},\"colorscale\":[[0.0,\"#0d0887\"],[0.1111111111111111,\"#46039f\"],[0.2222222222222222,\"#7201a8\"],[0.3333333333333333,\"#9c179e\"],[0.4444444444444444,\"#bd3786\"],[0.5555555555555556,\"#d8576b\"],[0.6666666666666666,\"#ed7953\"],[0.7777777777777778,\"#fb9f3a\"],[0.8888888888888888,\"#fdca26\"],[1.0,\"#f0f921\"]]}],\"contourcarpet\":[{\"type\":\"contourcarpet\",\"colorbar\":{\"outlinewidth\":0,\"ticks\":\"\"}}],\"contour\":[{\"type\":\"contour\",\"colorbar\":{\"outlinewidth\":0,\"ticks\":\"\"},\"colorscale\":[[0.0,\"#0d0887\"],[0.1111111111111111,\"#46039f\"],[0.2222222222222222,\"#7201a8\"],[0.3333333333333333,\"#9c179e\"],[0.4444444444444444,\"#bd3786\"],[0.5555555555555556,\"#d8576b\"],[0.6666666666666666,\"#ed7953\"],[0.7777777777777778,\"#fb9f3a\"],[0.8888888888888888,\"#fdca26\"],[1.0,\"#f0f921\"]]}],\"surface\":[{\"type\":\"surface\",\"colorbar\":{\"outlinewidth\":0,\"ticks\":\"\"},\"colorscale\":[[0.0,\"#0d0887\"],[0.1111111111111111,\"#46039f\"],[0.2222222222222222,\"#7201a8\"],[0.3333333333333333,\"#9c179e\"],[0.4444444444444444,\"#bd3786\"],[0.5555555555555556,\"#d8576b\"],[0.6666666666666666,\"#ed7953\"],[0.7777777777777778,\"#fb9f3a\"],[0.8888888888888888,\"#fdca26\"],[1.0,\"#f0f921\"]]}],\"mesh3d\":[{\"type\":\"mesh3d\",\"colorbar\":{\"outlinewidth\":0,\"ticks\":\"\"}}],\"scatter\":[{\"fillpattern\":{\"fillmode\":\"overlay\",\"size\":10,\"solidity\":0.2},\"type\":\"scatter\"}],\"parcoords\":[{\"type\":\"parcoords\",\"line\":{\"colorbar\":{\"outlinewidth\":0,\"ticks\":\"\"}}}],\"scatterpolargl\":[{\"type\":\"scatterpolargl\",\"marker\":{\"colorbar\":{\"outlinewidth\":0,\"ticks\":\"\"}}}],\"bar\":[{\"error_x\":{\"color\":\"#2a3f5f\"},\"error_y\":{\"color\":\"#2a3f5f\"},\"marker\":{\"line\":{\"color\":\"#E5ECF6\",\"width\":0.5},\"pattern\":{\"fillmode\":\"overlay\",\"size\":10,\"solidity\":0.2}},\"type\":\"bar\"}],\"scattergeo\":[{\"type\":\"scattergeo\",\"marker\":{\"colorbar\":{\"outlinewidth\":0,\"ticks\":\"\"}}}],\"scatterpolar\":[{\"type\":\"scatterpolar\",\"marker\":{\"colorbar\":{\"outlinewidth\":0,\"ticks\":\"\"}}}],\"histogram\":[{\"marker\":{\"pattern\":{\"fillmode\":\"overlay\",\"size\":10,\"solidity\":0.2}},\"type\":\"histogram\"}],\"scattergl\":[{\"type\":\"scattergl\",\"marker\":{\"colorbar\":{\"outlinewidth\":0,\"ticks\":\"\"}}}],\"scatter3d\":[{\"type\":\"scatter3d\",\"line\":{\"colorbar\":{\"outlinewidth\":0,\"ticks\":\"\"}},\"marker\":{\"colorbar\":{\"outlinewidth\":0,\"ticks\":\"\"}}}],\"scattermapbox\":[{\"type\":\"scattermapbox\",\"marker\":{\"colorbar\":{\"outlinewidth\":0,\"ticks\":\"\"}}}],\"scatterternary\":[{\"type\":\"scatterternary\",\"marker\":{\"colorbar\":{\"outlinewidth\":0,\"ticks\":\"\"}}}],\"scattercarpet\":[{\"type\":\"scattercarpet\",\"marker\":{\"colorbar\":{\"outlinewidth\":0,\"ticks\":\"\"}}}],\"carpet\":[{\"aaxis\":{\"endlinecolor\":\"#2a3f5f\",\"gridcolor\":\"white\",\"linecolor\":\"white\",\"minorgridcolor\":\"white\",\"startlinecolor\":\"#2a3f5f\"},\"baxis\":{\"endlinecolor\":\"#2a3f5f\",\"gridcolor\":\"white\",\"linecolor\":\"white\",\"minorgridcolor\":\"white\",\"startlinecolor\":\"#2a3f5f\"},\"type\":\"carpet\"}],\"table\":[{\"cells\":{\"fill\":{\"color\":\"#EBF0F8\"},\"line\":{\"color\":\"white\"}},\"header\":{\"fill\":{\"color\":\"#C8D4E3\"},\"line\":{\"color\":\"white\"}},\"type\":\"table\"}],\"barpolar\":[{\"marker\":{\"line\":{\"color\":\"#E5ECF6\",\"width\":0.5},\"pattern\":{\"fillmode\":\"overlay\",\"size\":10,\"solidity\":0.2}},\"type\":\"barpolar\"}],\"pie\":[{\"automargin\":true,\"type\":\"pie\"}]},\"layout\":{\"autotypenumbers\":\"strict\",\"colorway\":[\"#636efa\",\"#EF553B\",\"#00cc96\",\"#ab63fa\",\"#FFA15A\",\"#19d3f3\",\"#FF6692\",\"#B6E880\",\"#FF97FF\",\"#FECB52\"],\"font\":{\"color\":\"#2a3f5f\"},\"hovermode\":\"closest\",\"hoverlabel\":{\"align\":\"left\"},\"paper_bgcolor\":\"white\",\"plot_bgcolor\":\"#E5ECF6\",\"polar\":{\"bgcolor\":\"#E5ECF6\",\"angularaxis\":{\"gridcolor\":\"white\",\"linecolor\":\"white\",\"ticks\":\"\"},\"radialaxis\":{\"gridcolor\":\"white\",\"linecolor\":\"white\",\"ticks\":\"\"}},\"ternary\":{\"bgcolor\":\"#E5ECF6\",\"aaxis\":{\"gridcolor\":\"white\",\"linecolor\":\"white\",\"ticks\":\"\"},\"baxis\":{\"gridcolor\":\"white\",\"linecolor\":\"white\",\"ticks\":\"\"},\"caxis\":{\"gridcolor\":\"white\",\"linecolor\":\"white\",\"ticks\":\"\"}},\"coloraxis\":{\"colorbar\":{\"outlinewidth\":0,\"ticks\":\"\"}},\"colorscale\":{\"sequential\":[[0.0,\"#0d0887\"],[0.1111111111111111,\"#46039f\"],[0.2222222222222222,\"#7201a8\"],[0.3333333333333333,\"#9c179e\"],[0.4444444444444444,\"#bd3786\"],[0.5555555555555556,\"#d8576b\"],[0.6666666666666666,\"#ed7953\"],[0.7777777777777778,\"#fb9f3a\"],[0.8888888888888888,\"#fdca26\"],[1.0,\"#f0f921\"]],\"sequentialminus\":[[0.0,\"#0d0887\"],[0.1111111111111111,\"#46039f\"],[0.2222222222222222,\"#7201a8\"],[0.3333333333333333,\"#9c179e\"],[0.4444444444444444,\"#bd3786\"],[0.5555555555555556,\"#d8576b\"],[0.6666666666666666,\"#ed7953\"],[0.7777777777777778,\"#fb9f3a\"],[0.8888888888888888,\"#fdca26\"],[1.0,\"#f0f921\"]],\"diverging\":[[0,\"#8e0152\"],[0.1,\"#c51b7d\"],[0.2,\"#de77ae\"],[0.3,\"#f1b6da\"],[0.4,\"#fde0ef\"],[0.5,\"#f7f7f7\"],[0.6,\"#e6f5d0\"],[0.7,\"#b8e186\"],[0.8,\"#7fbc41\"],[0.9,\"#4d9221\"],[1,\"#276419\"]]},\"xaxis\":{\"gridcolor\":\"white\",\"linecolor\":\"white\",\"ticks\":\"\",\"title\":{\"standoff\":15},\"zerolinecolor\":\"white\",\"automargin\":true,\"zerolinewidth\":2},\"yaxis\":{\"gridcolor\":\"white\",\"linecolor\":\"white\",\"ticks\":\"\",\"title\":{\"standoff\":15},\"zerolinecolor\":\"white\",\"automargin\":true,\"zerolinewidth\":2},\"scene\":{\"xaxis\":{\"backgroundcolor\":\"#E5ECF6\",\"gridcolor\":\"white\",\"linecolor\":\"white\",\"showbackground\":true,\"ticks\":\"\",\"zerolinecolor\":\"white\",\"gridwidth\":2},\"yaxis\":{\"backgroundcolor\":\"#E5ECF6\",\"gridcolor\":\"white\",\"linecolor\":\"white\",\"showbackground\":true,\"ticks\":\"\",\"zerolinecolor\":\"white\",\"gridwidth\":2},\"zaxis\":{\"backgroundcolor\":\"#E5ECF6\",\"gridcolor\":\"white\",\"linecolor\":\"white\",\"showbackground\":true,\"ticks\":\"\",\"zerolinecolor\":\"white\",\"gridwidth\":2}},\"shapedefaults\":{\"line\":{\"color\":\"#2a3f5f\"}},\"annotationdefaults\":{\"arrowcolor\":\"#2a3f5f\",\"arrowhead\":0,\"arrowwidth\":1},\"geo\":{\"bgcolor\":\"white\",\"landcolor\":\"#E5ECF6\",\"subunitcolor\":\"white\",\"showland\":true,\"showlakes\":true,\"lakecolor\":\"white\"},\"title\":{\"x\":0.05},\"mapbox\":{\"style\":\"light\"}}},\"geo\":{\"domain\":{\"x\":[0.0,1.0],\"y\":[0.0,1.0]},\"projection\":{\"type\":\"equirectangular\"},\"center\":{},\"lataxis\":{\"range\":[-59,90]}},\"coloraxis\":{\"colorbar\":{\"title\":{\"text\":\"Mission\"}},\"colorscale\":[[0.0,\"rgb(214, 249, 207)\"],[0.09090909090909091,\"rgb(186, 228, 174)\"],[0.18181818181818182,\"rgb(156, 209, 143)\"],[0.2727272727272727,\"rgb(124, 191, 115)\"],[0.36363636363636365,\"rgb(85, 174, 91)\"],[0.45454545454545453,\"rgb(37, 157, 81)\"],[0.5454545454545454,\"rgb(7, 138, 78)\"],[0.6363636363636364,\"rgb(13, 117, 71)\"],[0.7272727272727273,\"rgb(23, 95, 61)\"],[0.8181818181818182,\"rgb(25, 75, 49)\"],[0.9090909090909091,\"rgb(23, 55, 35)\"],[1.0,\"rgb(17, 36, 20)\"]]},\"legend\":{\"tracegroupgap\":0,\"yanchor\":\"top\",\"y\":0.99,\"xanchor\":\"right\",\"x\":0.1},\"margin\":{\"t\":10,\"l\":0,\"r\":0,\"b\":0},\"title\":{\"font\":{\"size\":16,\"color\":\"#363945\"},\"text\":\"Number of Portugues Diplomatic Missions by Country\",\"y\":1,\"x\":0.5,\"xanchor\":\"center\",\"yanchor\":\"top\"}},                        {\"responsive\": true}                    ).then(function(){\n",
       "                            \n",
       "var gd = document.getElementById('2b642f91-1997-455a-a62a-fbfff2dcec87');\n",
       "var x = new MutationObserver(function (mutations, observer) {{\n",
       "        var display = window.getComputedStyle(gd).display;\n",
       "        if (!display || display === 'none') {{\n",
       "            console.log([gd, 'removed!']);\n",
       "            Plotly.purge(gd);\n",
       "            observer.disconnect();\n",
       "        }}\n",
       "}});\n",
       "\n",
       "// Listen for the removal of the full notebook cells\n",
       "var notebookContainer = gd.closest('#notebook-container');\n",
       "if (notebookContainer) {{\n",
       "    x.observe(notebookContainer, {childList: true});\n",
       "}}\n",
       "\n",
       "// Listen for the clearing of the current output cell\n",
       "var outputEl = gd.closest('.output');\n",
       "if (outputEl) {{\n",
       "    x.observe(outputEl, {childList: true});\n",
       "}}\n",
       "\n",
       "                        })                };                });            </script>        </div>"
      ]
     },
     "metadata": {},
     "output_type": "display_data"
    }
   ],
   "source": [
    "mnr = merged3.groupby(['Host_country','Alpha-3 code_y'])[['Mission']].count().reset_index()\n",
    "\n",
    "fig = px.choropleth(mnr, locations='Alpha-3 code_y',\n",
    "                    color='Mission', \n",
    "                    hover_name='Host_country', \n",
    "                    color_continuous_scale=px.colors.sequential.algae,\n",
    "                    projection='equirectangular') \n",
    "\n",
    "fig.update_geos(lataxis_range=[-59, 90])\n",
    "\n",
    "fig.update_layout(\n",
    "    margin=dict(l=0, r=0, t=10, b=0),\n",
    "    title_font=dict(size=16, color='#363945'),\n",
    "    title={\n",
    "        'text': 'Number of Portugues Diplomatic Missions by Country',\n",
    "        'y':1,\n",
    "        'x':0.5,\n",
    "        'xanchor': 'center',\n",
    "        'yanchor': 'top'},\n",
    "    legend=dict(\n",
    "    yanchor='top',\n",
    "    y=0.99,\n",
    "    xanchor='right',\n",
    "    x=0.1\n",
    "))\n",
    "\n",
    "fig.show()"
   ]
  }
 ],
 "metadata": {
  "kaggle": {
   "accelerator": "none",
   "dataSources": [
    {
     "datasetId": 403474,
     "sourceId": 773844,
     "sourceType": "datasetVersion"
    }
   ],
   "dockerImageVersionId": 30615,
   "isGpuEnabled": false,
   "isInternetEnabled": true,
   "language": "python",
   "sourceType": "notebook"
  },
  "kernelspec": {
   "display_name": "Python 3",
   "language": "python",
   "name": "python3"
  },
  "language_info": {
   "codemirror_mode": {
    "name": "ipython",
    "version": 3
   },
   "file_extension": ".py",
   "mimetype": "text/x-python",
   "name": "python",
   "nbconvert_exporter": "python",
   "pygments_lexer": "ipython3",
   "version": "3.10.12"
  },
  "papermill": {
   "default_parameters": {},
   "duration": 33.512108,
   "end_time": "2023-12-11T16:50:37.048141",
   "environment_variables": {},
   "exception": null,
   "input_path": "__notebook__.ipynb",
   "output_path": "__notebook__.ipynb",
   "parameters": {},
   "start_time": "2023-12-11T16:50:03.536033",
   "version": "2.4.0"
  }
 },
 "nbformat": 4,
 "nbformat_minor": 5
}
